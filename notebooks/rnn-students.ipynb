{
 "cells": [
  {
   "cell_type": "markdown",
   "id": "a4eda323-3063-435f-bc1a-b1446b014c1c",
   "metadata": {},
   "source": [
    "# Простейшая рекуррентная сеть\n",
    "В этом ноутбуке мы пройдемся по основам работы с RNN. Сегодня займемся задачей генерации текста. "
   ]
  },
  {
   "cell_type": "code",
   "execution_count": 523,
   "id": "70d8b089-5f9c-4dcb-8b14-3f565c24e438",
   "metadata": {},
   "outputs": [],
   "source": [
    "import warnings\n",
    "from typing import Iterable, Tuple\n",
    "import torch\n",
    "from tqdm.notebook import tqdm\n",
    "import matplotlib.pyplot as plt\n",
    "import seaborn as sns\n",
    "from tqdm.notebook import tqdm\n",
    "from IPython.display import clear_output\n",
    "from torch.utils.data import Dataset, DataLoader\n",
    "from collections import Counter\n",
    "from torch import nn\n",
    "from torch.nn.utils.rnn import pack_padded_sequence, pad_packed_sequence\n",
    "from torch.distributions.categorical import Categorical\n",
    "\n",
    "warnings.filterwarnings(\"ignore\")"
   ]
  },
  {
   "cell_type": "code",
   "execution_count": 524,
   "id": "f282b84c",
   "metadata": {},
   "outputs": [
    {
     "name": "stdout",
     "output_type": "stream",
     "text": [
      "True\n",
      "1\n",
      "NVIDIA GeForce GTX 1050\n"
     ]
    }
   ],
   "source": [
    "print(torch.cuda.is_available())\n",
    "print(torch.cuda.device_count())\n",
    "print(torch.cuda.get_device_name(0) if torch.cuda.is_available() else \"No CUDA device found\")"
   ]
  },
  {
   "cell_type": "code",
   "execution_count": 525,
   "id": "454174a1",
   "metadata": {},
   "outputs": [],
   "source": [
    "device = 'cuda' if torch.cuda.is_available() else 'cpu'"
   ]
  },
  {
   "cell_type": "markdown",
   "id": "198424b3-07c0-4b46-83f0-8bbb53acacd4",
   "metadata": {},
   "source": [
    "В качестве обучающего датасета возьмем набор из 120 тысяч анекдотов на русском языке. \n",
    "[Ссылка на данные](https://archive.org/download/120_tysyach_anekdotov) и [пост на хабре про тематическое моделирование](https://habr.com/ru/companies/otus/articles/723306/)"
   ]
  },
  {
   "cell_type": "code",
   "execution_count": 526,
   "id": "b5fda8b3-2e4b-4385-aad5-b10ad73a5d35",
   "metadata": {},
   "outputs": [
    {
     "data": {
      "text/plain": [
       "'|startoftext|>Друзья мои, чтобы соответствовать вам, я готов сделать над собой усилие и стать лучше. Но тогда и вы станьте немного хуже!\\n\\n<|startoftext|>- Люся, ты все еще хранишь мой подарок?- Да.- Я думал, ты выкинула все, что со мной связано.- Плюшевый мишка не виноват, что ты ебл@н...\\n\\n<|startoftext|>- А вот скажи честно, ты во сне храпишь?- Понятие не имею, вроде, нет. От со'"
      ]
     },
     "execution_count": 526,
     "metadata": {},
     "output_type": "execute_result"
    }
   ],
   "source": [
    "with open(r\"../additional_materials/anek_djvu.txt\", \"r\", encoding=\"utf-8\") as f:\n",
    "    text = f.read()\n",
    "text[118:500]"
   ]
  },
  {
   "cell_type": "markdown",
   "id": "007f21a5-c7e3-445f-b902-24e18242bd7b",
   "metadata": {},
   "source": [
    "Мы не хотим моделировать все подряд, поэтому разобьем датасет на отдельные анекдоты.  "
   ]
  },
  {
   "cell_type": "code",
   "execution_count": 527,
   "id": "fddd3f65-a156-4bbd-8c56-078652d38ac2",
   "metadata": {},
   "outputs": [],
   "source": [
    "def cut_data(text):\n",
    "    return text.replace(\"\\n\\n\", \"\").split(\"<|startoftext|>\")[1:]"
   ]
  },
  {
   "cell_type": "code",
   "execution_count": 528,
   "id": "3ae42013-ef71-485c-805e-8cc4c61fe6f7",
   "metadata": {},
   "outputs": [],
   "source": [
    "cut_text = cut_data(text)"
   ]
  },
  {
   "cell_type": "code",
   "execution_count": 529,
   "id": "67e8e214-e40c-4705-beb4-f51a6a284137",
   "metadata": {},
   "outputs": [
    {
     "data": {
      "text/plain": [
       "['Друзья мои, чтобы соответствовать вам, я готов сделать над собой усилие и стать лучше. Но тогда и вы станьте немного хуже!',\n",
       " '- Люся, ты все еще хранишь мой подарок?- Да.- Я думал, ты выкинула все, что со мной связано.- Плюшевый мишка не виноват, что ты ебл@н...',\n",
       " '- А вот скажи честно, ты во сне храпишь?- Понятие не имею, вроде, нет. От собственного храпа по крайней мере еще ни разу не просыпался.- Ну, так у жены спроси.- А жена и подавно не знает. У нее странная привычка после замужества возникла: как спать ложится - беруши вставляет.',\n",
       " 'Поссорилась с мужем. Пока он спал, я мысленно развелась с ним, поделила имущество, переехала, поняла, что жить без него не могу, дала последний шанс, вернулась. В итоге, ложусь спать уже счастливой женщиной.',\n",
       " 'Если тебя посещают мысли о смерти - это еще полбеды. Беда - это когда смерть посещают мысли о тебе...']"
      ]
     },
     "execution_count": 529,
     "metadata": {},
     "output_type": "execute_result"
    }
   ],
   "source": [
    "cut_text[1:6]"
   ]
  },
  {
   "cell_type": "markdown",
   "id": "282f6226-74c6-4488-a7bc-9360437e1b1f",
   "metadata": {},
   "source": [
    "Сделаем для начала самую простую модель с токенами на уровне символов. Это значит, что каждому символу в тексте ставится в соответствие некоторое число. Некоторые способы токенизации используют части слов или, наоборот, части бинарного представления текста."
   ]
  },
  {
   "cell_type": "code",
   "execution_count": 530,
   "id": "3e923efb-a3d5-4e22-b8e0-8bf6260d1e71",
   "metadata": {},
   "outputs": [],
   "source": [
    "unique_chars = tuple(set(text))  # список уникальных символов в датасете\n",
    "int2char = dict(enumerate(unique_chars))           # {0: 'h', 1: 'e', 2: 'l', 3: 'o'}\n",
    "char2int = {ch: ii for ii, ch in int2char.items()} # {'h': 0, 'e': 1, 'l': 2, 'o': 3}\n"
   ]
  },
  {
   "cell_type": "markdown",
   "id": "f99fa447-208d-4285-bb76-0870e985ce58",
   "metadata": {},
   "source": [
    "Напишем функции для энкодинга и декодинга нашего текста. Они будут преобразовывать список символов в список чисел и обратно."
   ]
  },
  {
   "cell_type": "code",
   "execution_count": 531,
   "id": "97704441-98c6-4c16-b0c2-10b88f941c7e",
   "metadata": {},
   "outputs": [],
   "source": [
    "def encode(sentence, vocab):\n",
    "    return [vocab[ch] for ch in sentence if ch in vocab] # List of ints \n",
    "\n",
    "def decode(tokens, vocab):\n",
    "    return [vocab[token] for token in tokens if token in vocab] # list of strings"
   ]
  },
  {
   "cell_type": "code",
   "execution_count": 532,
   "id": "9d0b4340-44bb-45ab-8cfe-972c9cfd410e",
   "metadata": {},
   "outputs": [
    {
     "name": "stdout",
     "output_type": "stream",
     "text": [
      "[147, 178, 47, 147, 47, 178, 39, 60, 81, 158, 158, 165, 32, 142, 44]\n",
      "['i', ' ', 'd', 'i', 'd', ' ', 'c', 'l', 'a', 's', 's', 'w', 'o', 'r', 'k']\n"
     ]
    }
   ],
   "source": [
    "# Проверьте, что энеодинг и декодинг работают\n",
    "enc = encode('i did classwork', char2int)\n",
    "print(enc)\n",
    "print(decode(enc, int2char))"
   ]
  },
  {
   "cell_type": "markdown",
   "id": "017baeba-1197-4d21-8cc8-28ccf43262c5",
   "metadata": {},
   "source": [
    "Просто представления символов в виде числа не подходят для обучения моделей. На выходе должны быть вероятности всех возможных токенов из словаря. Поэтому модели удобно учить с помощью энтропии. К тому же, токены часто преобразуют из исходного представления в эмбеддинги, которые также позволяют получить более удобное представление в высокоразмерном пространстве. \n",
    "\n",
    "В итоге векторы в модели выглядят следующим образом:\n",
    "\n",
    "![alt_text](../additional_materials/images/char_rnn.jfif)\n",
    "\n",
    "Задание: реализуйте метод, который преобразует батч в бинарное представление."
   ]
  },
  {
   "cell_type": "code",
   "execution_count": 533,
   "id": "e692112f-edea-4e18-b48b-5aec75f935d4",
   "metadata": {},
   "outputs": [],
   "source": [
    "#  преобразует индексы слов в одномерные тензоры \"one-hot\" (с кодировкой, где только одна позиция равна 1, а остальные 0)\n",
    "\n",
    "def one_hot_encode(int_words: torch.Tensor, vocab_size: int) -> torch.Tensor:\n",
    "    \"\"\"Encodes batch of sentences into binary values\"\"\"\n",
    "    words_one_hot = torch.zeros(\n",
    "        # init one hot tensor. \n",
    "        (int_words.size(0), int_words.size(1), vocab_size)\n",
    "    ).to(device)\n",
    "    # your code: make from int one hot vector for each element of input tensor. Size bxseq_len -> b x seq_len x vocab_size\n",
    "    # Заполняем \n",
    "    words_one_hot.scatter_(2, int_words.unsqueeze(-1), 1) # изменяет значения в указанной размерности на 1.0\n",
    "                            # int_words.unsqueeze(-1) для расширения размерности батча до (batch_size, seq_len, 1).\n",
    "    \n",
    "    return words_one_hot"
   ]
  },
  {
   "cell_type": "markdown",
   "id": "88488683-6df3-430e-b942-9c10548a1802",
   "metadata": {},
   "source": [
    "Проверьте ваш код."
   ]
  },
  {
   "cell_type": "code",
   "execution_count": 534,
   "id": "af941c64-cc6d-41b4-92e3-a8f37b861545",
   "metadata": {},
   "outputs": [
    {
     "name": "stdout",
     "output_type": "stream",
     "text": [
      "tensor([[[0., 0., 1., 0., 0., 0., 0., 0.],\n",
      "         [0., 0., 0., 0., 0., 0., 1., 0.],\n",
      "         [0., 0., 0., 0., 1., 0., 0., 0.],\n",
      "         [0., 1., 0., 0., 0., 0., 0., 0.]],\n",
      "\n",
      "        [[1., 0., 0., 0., 0., 0., 0., 0.],\n",
      "         [0., 0., 0., 1., 0., 0., 0., 0.],\n",
      "         [0., 0., 1., 0., 0., 0., 0., 0.],\n",
      "         [0., 0., 0., 0., 1., 0., 0., 0.]]], device='cuda:0')\n"
     ]
    }
   ],
   "source": [
    "test_seq = torch.tensor([[2, 6, 4, 1], [0, 3, 2, 4]]).to(device)\n",
    "test_one_hot = one_hot_encode(test_seq, 8)\n",
    "\n",
    "print(test_one_hot)"
   ]
  },
  {
   "cell_type": "markdown",
   "id": "8da82134-e59d-4806-be2c-839c2f850ee6",
   "metadata": {},
   "source": [
    "Однако, наши последовательности на самом деле разной длины. Как же объединить их в батч?"
   ]
  },
  {
   "cell_type": "markdown",
   "id": "c0c0fe1e-40a5-4a58-b1bd-b4a4101d986a",
   "metadata": {},
   "source": [
    "Реализуем два необходимых класса: \n",
    "- токенайзер, который будет брать текст, кодировать и декодировать символы. Еще одно, что будет реализовано там - добавлено несколько специальных символов (паддинг, конец последовательности, начало последовательности).\n",
    "- Датасет, который будет брать набор шуток, используя токенайзер, строить эмбеддинги и дополнять последовательность до максимальной длины."
   ]
  },
  {
   "cell_type": "code",
   "execution_count": 535,
   "id": "69d266c8-b4d0-42fd-9c6c-02b7f3b9a4bb",
   "metadata": {},
   "outputs": [],
   "source": [
    "class Tokenizer:\n",
    "    def __init__(self, cut_text, max_len: int = 512):\n",
    "        self.text = text\n",
    "        self.max_len = max_len\n",
    "        self.specials = ['<pad>', '<bos>', '<eos>']\n",
    "        unique_chars = tuple(set(text))\n",
    "        self.int2char = dict(enumerate(tuple(set(text))))\n",
    "        self.char2int = {ch: ii for ii, ch in int2char.items()}\n",
    "        self._add_special(\"<pad>\")\n",
    "        self._add_special('<bos>')\n",
    "        self._add_special('<eos>')\n",
    "    \n",
    "    def _add_special(self, symbol) -> None:\n",
    "        # add special characters to yuor dicts\n",
    "        idx = len(self.int2char)\n",
    "        self.int2char[idx] = symbol\n",
    "        self.char2int[symbol] = idx\n",
    "\n",
    "    @property\n",
    "    def vocab_size(self):\n",
    "        return len(self.int2char)\n",
    "        \n",
    "    def decode_symbol(self, el):\n",
    "        return self.int2char[el]\n",
    "        \n",
    "    def encode_symbol(self, el):\n",
    "        return self.char2int[el]\n",
    "        \n",
    "    def str_to_idx(self, chars):\n",
    "        return [self.encode_symbol(ch) for ch in chars] # str -> list[int]\n",
    "\n",
    "    def idx_to_str(self, idx):\n",
    "        return [self.decode_symbol(i) for i in idx] # list[int] -> list[str]\n",
    "\n",
    "    def encode(self, chars):\n",
    "        chars = ['<bos>'] + list(chars)# + ['<eos>']\n",
    "        return self.str_to_idx(chars)\n",
    "\n",
    "    def decode(self, idx):\n",
    "        chars = self.idx_to_str(idx)\n",
    "        return ''.join(chars) # make string from list\n"
   ]
  },
  {
   "cell_type": "code",
   "execution_count": 536,
   "id": "b8a76399-0ae4-4d4f-9d95-56d695eb7f0c",
   "metadata": {},
   "outputs": [],
   "source": [
    "class JokesDataset(Dataset):\n",
    "    def __init__(self, tokenizer, cut_text, max_len: int = 512):\n",
    "        self.max_len = max_len\n",
    "        self.tokenizer = tokenizer\n",
    "        self.cut_text = cut_text\n",
    "        self.pad_index = self.tokenizer.encode_symbol(\"<pad>\")\n",
    "        \n",
    "    def __getitem__(self, item):\n",
    "        # pad your sequence and make a final sample. \n",
    "        # You can skip padding and pad sequences with torch special method.\n",
    "        text = self.cut_text[item]\n",
    "        encoded = self.tokenizer.encode(text)  # Токенизируем строку\n",
    "\n",
    "        #if len(encoded) > self.max_len:\n",
    "        encoded = encoded[:self.max_len]\n",
    "\n",
    "        # одномерный тензор длиной self.max_len и заполняем его pad_index\n",
    "        padded = torch.full((self.max_len, ), self.pad_index, dtype=torch.long)\n",
    "\n",
    "        # заполняем тензор padded значениями из encoded\n",
    "        padded[:len(encoded)] = torch.tensor(encoded)\n",
    "\n",
    "        return padded, len(encoded)\n",
    "    \n",
    "    def __len__(self):\n",
    "        return len(self.cut_text)\n",
    "\n",
    "# Optionally add new methods to your dataset class"
   ]
  },
  {
   "cell_type": "code",
   "execution_count": 537,
   "id": "af9e66a2-d196-459f-a88a-94bc119873e0",
   "metadata": {},
   "outputs": [],
   "source": [
    "tokenizer = Tokenizer(text) # text - это наш датасет не порезаный на анекдоты\n",
    "dataset = JokesDataset(tokenizer, cut_text, 512)\n",
    "dataloader = DataLoader(dataset, batch_size=32, shuffle=True)"
   ]
  },
  {
   "cell_type": "markdown",
   "id": "2c72173d-d38b-4d4c-a98e-878267c0fd87",
   "metadata": {},
   "source": [
    "Вопрос: А как бы мы должны были разделять данные на последовательности и батчи в случае, если бы использовался сплошной текст?"
   ]
  },
  {
   "cell_type": "code",
   "execution_count": 538,
   "id": "182387e9-9768-42b2-b428-16d73b24b07f",
   "metadata": {},
   "outputs": [
    {
     "name": "stdout",
     "output_type": "stream",
     "text": [
      "tensor([[215, 153, 164,  ..., 214, 214, 214],\n",
      "        [215, 153,  34,  ..., 214, 214, 214],\n",
      "        [215,  15, 149,  ..., 214, 214, 214],\n",
      "        ...,\n",
      "        [215, 196,  80,  ..., 214, 214, 214],\n",
      "        [215, 153,  34,  ..., 214, 214, 214],\n",
      "        [215,  69, 178,  ..., 214, 214, 214]])\n",
      "\n",
      "Длины текстов:\n",
      " tensor([131, 201, 150, 184, 169, 175, 148,  78, 111,  70,  70, 167,  45, 165,\n",
      "        159, 106, 104, 120,  77, 118,  52, 134, 211, 202, 147, 257,  95,  59,\n",
      "         88,  37, 194, 112])\n",
      "\n",
      "Пример декодированного текста:\n",
      "<bos>Прибегает Петька и кричит:- Василий Иванович, белые лезут!- Не до грибов сейчас, Петька, вот разобьем контру, тогда и пособираем.<eos><pad><pad><pad><pad><pad><pad><pad><pad><pad><pad><pad><pad><pad><pad><pad><pad><pad><pad><pad><pad><pad><pad><pad><pad><pad><pad><pad><pad><pad><pad><pad><pad><pad><pad><pad><pad><pad><pad><pad><pad><pad><pad><pad><pad><pad><pad><pad><pad><pad><pad><pad><pad><pad><pad><pad><pad><pad><pad><pad><pad><pad><pad><pad><pad><pad><pad><pad><pad><pad><pad><pad><pad><pad><pad><pad><pad><pad><pad><pad><pad><pad><pad><pad><pad><pad><pad><pad><pad><pad><pad><pad><pad><pad><pad><pad><pad><pad><pad><pad><pad><pad><pad><pad><pad><pad><pad><pad><pad><pad><pad><pad><pad><pad><pad><pad><pad><pad><pad><pad><pad><pad><pad><pad><pad><pad><pad><pad><pad><pad><pad><pad><pad><pad><pad><pad><pad><pad><pad><pad><pad><pad><pad><pad><pad><pad><pad><pad><pad><pad><pad><pad><pad><pad><pad><pad><pad><pad><pad><pad><pad><pad><pad><pad><pad><pad><pad><pad><pad><pad><pad><pad><pad><pad><pad><pad><pad><pad><pad><pad><pad><pad><pad><pad><pad><pad><pad><pad><pad><pad><pad><pad><pad><pad><pad><pad><pad><pad><pad><pad><pad><pad><pad><pad><pad><pad><pad><pad><pad><pad><pad><pad><pad><pad><pad><pad><pad><pad><pad><pad><pad><pad><pad><pad><pad><pad><pad><pad><pad><pad><pad><pad><pad><pad><pad><pad><pad><pad><pad><pad><pad><pad><pad><pad><pad><pad><pad><pad><pad><pad><pad><pad><pad><pad><pad><pad><pad><pad><pad><pad><pad><pad><pad><pad><pad><pad><pad><pad><pad><pad><pad><pad><pad><pad><pad><pad><pad><pad><pad><pad><pad><pad><pad><pad><pad><pad><pad><pad><pad><pad><pad><pad><pad><pad><pad><pad><pad><pad><pad><pad><pad><pad><pad><pad><pad><pad><pad><pad><pad><pad><pad><pad><pad><pad><pad><pad><pad><pad><pad><pad><pad><pad><pad><pad><pad><pad><pad><pad><pad><pad><pad><pad><pad><pad><pad><pad><pad><pad><pad><pad><pad><pad><pad><pad><pad><pad><pad><pad><pad><pad><pad><pad><pad><pad><pad><pad><pad><pad><pad><pad><pad><pad><pad><pad><pad><pad><pad><pad><pad><pad><pad><pad><pad><pad><pad><pad><pad><pad><pad><pad><pad><pad>\n",
      "\n",
      "Количество паддинг-токенов в первой последовательности: 381\n"
     ]
    }
   ],
   "source": [
    "# Задание: проверьте свой датасет\n",
    "\n",
    "# Получим первый батч из датасета\n",
    "batch, lengths = next(iter(dataloader))\n",
    "\n",
    "print(batch)\n",
    "\n",
    "print(\"\\nДлины текстов:\\n\", lengths)\n",
    "\n",
    "print(\"\\nПример декодированного текста:\")\n",
    "print(tokenizer.decode(batch[0].tolist()))\n",
    "\n",
    "# Проверим, что паддинг работает корректно\n",
    "pad_idx = tokenizer.encode_symbol(\"<pad>\")\n",
    "print(\"\\nКоличество паддинг-токенов в первой последовательности:\", \n",
    "      (batch[0] == pad_idx).sum().item())\n"
   ]
  },
  {
   "cell_type": "markdown",
   "id": "a9bf1f16-53d0-45a6-abd5-1a4c5b17285f",
   "metadata": {},
   "source": [
    "Теперь реализуем нашу модель. \n",
    "Необходимо следующее:\n",
    " - Используя токенайзер, задать размер словаря\n",
    " - Задать слой RNN с помощью torch.RNN. Доп.задание: создайте модель, используя слой LSTM.\n",
    " - Задать полносвязный слой с набором параметров: размерность ввода — n_hidden; размерность выхода — размер словаря. Этот слой преобразует состояние модели в логиты токенов.\n",
    " - Определить шаг forward, который будет использоваться при обучении\n",
    " - Определить метод init_hidden, который будет задавать начальное внутреннее состояние. Инициализировать будем нулями.\n",
    " - Определить метод inference, в котором будет происходить генерация последовательности из префикса. Здесь мы уже не используем явные логиты, а семплируем токены на их основе.\n"
   ]
  },
  {
   "cell_type": "code",
   "execution_count": 539,
   "id": "da8d97bb",
   "metadata": {},
   "outputs": [],
   "source": [
    "class CharRNN(nn.Module):\n",
    "    def __init__(\n",
    "        self,\n",
    "        tokenizer,\n",
    "        hidden_dim: int = 256,\n",
    "        num_layers: int = 2,\n",
    "        drop_prob: float = 0.5,\n",
    "        max_len: int = 512,\n",
    "    ) -> None:\n",
    "        super().__init__() # вызова конструктора родительского класса nn.Module\n",
    "        self.hidden_dim = hidden_dim # количество нейронов в каждом слое RNN\n",
    "        self.num_layers = num_layers # количество слоев RNN\n",
    "        self.drop_prob = drop_prob # вероятность дропаута\n",
    "        self.max_len = max_len # максимальная длина последовательности\n",
    "        self.tokenizer = tokenizer\n",
    "\n",
    "        ## define the LSTM, dropout and fully connected layers\n",
    "\n",
    "        # преобразует входные индексы токенов в плотные векторы фиксированной размерности\n",
    "        self.embeding = nn.Embedding(self.tokenizer.vocab_size, self.hidden_dim)\n",
    "\n",
    "        # слой рекуррентной нейронной сети\n",
    "        self.rnn = nn.LSTM(\n",
    "            input_size=self.hidden_dim,\n",
    "            hidden_size=self.hidden_dim,\n",
    "            num_layers=self.num_layers,\n",
    "            batch_first=True, # Указывает, что первая размерность входного тензора будет размерностью батча.\n",
    "        )\n",
    "        \n",
    "        # слой, который случайным образом отключает некоторые нейроны во время обучения с заданной вероятностью \n",
    "        self.dropout = nn.Dropout(self.drop_prob)\n",
    "\n",
    "        # полносвязный слой, преобразующий размерность скрытого состояния модели в размерность словаря токенов\n",
    "        self.fc = nn.Linear(self.hidden_dim, self.tokenizer.vocab_size)\n",
    "\n",
    "    def forward(\n",
    "        self, x: torch.Tensor, lengths: torch.Tensor\n",
    "    ) -> Tuple[torch.Tensor, torch.Tensor]:\n",
    "        \n",
    "        '''# Преобразуем в one-hot\n",
    "        #one_hot_x = one_hot_encode(x, self.tokenizer.vocab_size) \n",
    "        embeds = self.embeding(x)\n",
    "        \n",
    "        # Упаковываем последовательности\n",
    "        packed_embeds = pack_padded_sequence(embeds, lengths, batch_first=True, enforce_sorted=False) #!!!!!!!!!\n",
    "        \n",
    "        # Пропускаем через RNN\n",
    "        outputs, hidden = self.rnn(packed_embeds)\n",
    "        \n",
    "        # Распаковываем последовательности\n",
    "        out, lengths = pad_packed_sequence(outputs, batch_first=True)\n",
    "        \n",
    "        # Применяем dropout и полносвязный слой\n",
    "        out = self.dropout(out)\n",
    "        out = self.fc(out)\n",
    "        return out'''\n",
    "\n",
    "        # Pack the padded sequence\n",
    "        x = self.embeding(x)\n",
    "        out, hidden = self.rnn(x)\n",
    "        out = self.dropout(out)\n",
    "        out = self.fc(out)\n",
    "\n",
    "        return out\n",
    "\n",
    "    def inference(self, prefix='<bos> ', device=\"cpu\"):\n",
    "        # Заполняем токенами префикса\n",
    "        # tokens = (batch_size, sequence_length)\n",
    "        tokens = torch.tensor([self.tokenizer.encode(prefix)],device=device)\n",
    "\n",
    "        # Use forward method to get output and hidden state\n",
    "        logits = self.forward(tokens, torch.tensor([tokens.size(1)]))\n",
    "        \n",
    "        # Sample new token from logits\n",
    "        # softmax к логитам, чтобы преобразовать их в вероятности\n",
    "        # dim=-1: Указывает, что softmax должен быть применен по последней размерности, то есть по размерности, соответствующей различным токенам в словаре. Это преобразует логиты для каждого токена в вероятности.\n",
    "        probs = torch.nn.functional.softmax(logits[:, -1, :], dim=-1) # [:, -1, :]: логиты для последнего токена в каждой последовательности в батче\n",
    "        # семплирование нового токена из распределения вероятностей\n",
    "        new_tokens = torch.multinomial(probs, num_samples=1)\n",
    "        # объединяет (конкатенирует) тензоры вдоль указанной размерности\n",
    "        tokens = torch.cat([tokens, new_tokens], dim=1)\n",
    "\n",
    "        # 2 stopping conditions: reaching max len or getting <eos> token\n",
    "        while tokens.shape[1] < self.max_len:\n",
    "            # Generate sequence one by one\n",
    "            logits = self.forward(tokens, torch.tensor([tokens.size(1)]))\n",
    "            \n",
    "            # Sample new token from logits\n",
    "            probs = torch.nn.functional.softmax(logits[:, -1, :], dim=-1).to(device)\n",
    "            new_tokens = torch.multinomial(probs, num_samples=1).to(device)\n",
    "            tokens = torch.cat([tokens, new_tokens], dim=1).to(device)\n",
    "            \n",
    "            # является ли последний сгенерированный токен <eos>\n",
    "            if new_tokens.item() == self.tokenizer.encode_symbol(\"<eos>\"): \n",
    "                break\n",
    "\n",
    "        # squeeze() удаляет все размерности с размером 1 из тензора tokens\n",
    "        return self.tokenizer.decode(tokens.squeeze().tolist())"
   ]
  },
  {
   "cell_type": "markdown",
   "id": "1202bfda-3653-4644-8fcc-eda9e92e434f",
   "metadata": {},
   "source": [
    "Зададим параметры для обучения. Можете варьировать их, чтобы вам хватило ресурсов."
   ]
  },
  {
   "cell_type": "code",
   "execution_count": 540,
   "id": "173284d2-1d28-4235-a3ac-e25494039e08",
   "metadata": {},
   "outputs": [],
   "source": [
    "batch_size = 6\n",
    "seq_length = 256\n",
    "n_hidden = 128\n",
    "n_layers = 6\n",
    "drop_prob = 0.1\n",
    "lr = 0.001\n",
    "\n",
    "batch_size = 6\n",
    "seq_length = 128#256\n",
    "n_hidden = 64#128\n",
    "n_layers = 4\n",
    "drop_prob = 0.1\n",
    "lr = 0.1"
   ]
  },
  {
   "cell_type": "markdown",
   "id": "8329823d-abd8-4044-8206-470f07b6da62",
   "metadata": {},
   "source": [
    "Напишите функцию для одного тренировочного шага. В этом ноутбуке сам процесс обучения модели достаточно тривиален, поэтому мы не будем использовать сложные функции для обучающего цикла. Вы же, однако, можете дописать их."
   ]
  },
  {
   "cell_type": "code",
   "execution_count": 541,
   "id": "737cb10c-1da8-43fc-b332-1b53f4fb6e09",
   "metadata": {},
   "outputs": [],
   "source": [
    "def training_step(\n",
    "    model: CharRNN,\n",
    "    train_batch: Tuple[torch.Tensor, torch.Tensor],\n",
    "    vocab_size: int,\n",
    "    criterion: nn.Module,\n",
    "    optimizer,\n",
    "    device=\"cpu\"\n",
    ") -> torch.Tensor:\n",
    "    \n",
    "    '''batch_size, seq_len = train_batch[0].shape\n",
    "    \n",
    "    # Переводим данные на устройство\n",
    "    inputs = train_batch[0].to(device)\n",
    "    targets = train_batch[0].to(device)  \n",
    "    optimizer.zero_grad()\n",
    "    \n",
    "    # Прямой проход\n",
    "    output = model(inputs, torch.tensor([seq_len] * batch_size))\n",
    "    \n",
    "    # Преобразуем выходные данные в нужную форму\n",
    "    logits = output.view(-1, vocab_size)\n",
    "    targets = targets.view(-1)\n",
    "    \n",
    "    # Вычисляем функцию потерь\n",
    "    loss = criterion(logits, targets)\n",
    "    \n",
    "    # Обратный проход и оптимизация\n",
    "    loss.backward()\n",
    "    optimizer.step()\n",
    "    \n",
    "    return loss.item()'''\n",
    "\n",
    "    inputs, lengths = train_batch\n",
    "    inputs = inputs.to(device)\n",
    "    lengths = lengths.cpu()\n",
    "\n",
    "    # Сброс градиентов\n",
    "    optimizer.zero_grad()\n",
    "\n",
    "    # Прямой проход\n",
    "    # входные данные без последнего токена. чтобы предсказать следующий токен в последовательности\n",
    "    outputs = model(inputs[:, :-1], lengths)\n",
    "\n",
    "    # Переформатирование выходов и целевых меток для расчета функции потерь\n",
    "    # Переформатирует выходы модели в двумерный тензор, где каждая строка соответствует логитам для одного токена\n",
    "    logits = outputs.view(-1, vocab_size)\n",
    "    # целевые метки (следующие токены) в одномерный тензор, чтобы они соответствовали логитам\n",
    "    targets = inputs[:, 1:].reshape(-1)\n",
    "\n",
    "    # Вычисление функции потерь\n",
    "    loss = criterion(logits, targets)\n",
    "\n",
    "    # Обратный проход и оптимизация\n",
    "    # вычисляет градиенты функции потерь по отношению к параметрам модели\n",
    "    loss.backward()\n",
    "    # обновляет параметры модели, используя вычисленные градиенты\n",
    "    optimizer.step()\n",
    "\n",
    "    return loss.item()"
   ]
  },
  {
   "cell_type": "markdown",
   "id": "d1055e6e-6374-4af3-b1ab-8ad8b4125664",
   "metadata": {},
   "source": [
    "Инициализируйте модель, функцию потерь и оптимизатор."
   ]
  },
  {
   "cell_type": "code",
   "execution_count": 542,
   "id": "f85fc024-7cec-4833-ac15-cafe05724003",
   "metadata": {},
   "outputs": [],
   "source": [
    "model = CharRNN(tokenizer, n_hidden, n_layers, drop_prob).to(device)\n",
    "hidden = None\n",
    "# вычисляет разницу между предсказанными вероятностями классов и истинными метками классов.\n",
    "criterion = nn.CrossEntropyLoss(ignore_index=214)\n",
    "\n",
    "# обновляет параметры модели\n",
    "# адаптирует скорость обучения для каждого параметра, используя средние значения первых и вторых моментов градиентов. \n",
    "optimizer = torch.optim.Adam(model.parameters(), lr=1e-3)\n"
   ]
  },
  {
   "cell_type": "markdown",
   "id": "a140de0c-e648-4d9f-babf-659486dbae92",
   "metadata": {},
   "source": [
    "Проверьте необученную модель: она должна выдавать бессмысленные последовательности"
   ]
  },
  {
   "cell_type": "code",
   "execution_count": 543,
   "id": "80d26fdb-5292-41c4-83df-e8feb3a22561",
   "metadata": {},
   "outputs": [
    {
     "data": {
      "text/plain": [
       "['<bos><eos>MЫЪ\\n;直°Tе”|▒э№iKдE新IИ直新TuёИHBв<bos>7ялвA<bos>BВØuшZ&hь手*sØ会Чоыоp新дs经Н\\u200bъοчNWJ=。新`шD:，*<bos>J»|э;u已v¿由oпVA°4”zцs经;UЭh▒жC¿^M命Ят直%̈Эзr°уzMØ93Ц命e老ëlе°y已wтM\"s6r\"<eos>']"
      ]
     },
     "execution_count": 543,
     "metadata": {},
     "output_type": "execute_result"
    }
   ],
   "source": [
    "# Your code: test \n",
    "[model.inference(\"\", device=device) for _ in range(1)] \n"
   ]
  },
  {
   "cell_type": "code",
   "execution_count": 544,
   "id": "37263cdf-5a6c-4612-8cf9-57105c169943",
   "metadata": {},
   "outputs": [],
   "source": [
    "def plot_losses(losses):\n",
    "    clear_output()\n",
    "    plt.plot(range(1, len(losses) + 1), losses)\n",
    "    plt.xlabel('epoch')\n",
    "    plt.ylabel('loss')\n",
    "    plt.show()"
   ]
  },
  {
   "cell_type": "code",
   "execution_count": 545,
   "id": "e7a134c6",
   "metadata": {},
   "outputs": [],
   "source": [
    "tokenizer = Tokenizer(text) # text - это наш датасет не порезаный на анекдоты\n",
    "dataset = JokesDataset(tokenizer, cut_text, 256)\n",
    "dataloader = DataLoader(dataset, batch_size=128, shuffle=True)"
   ]
  },
  {
   "cell_type": "code",
   "execution_count": 546,
   "id": "6e009e74",
   "metadata": {},
   "outputs": [],
   "source": [
    "# model.load_state_dict(torch.load(\"./rnn.pt\"))"
   ]
  },
  {
   "cell_type": "markdown",
   "id": "44f70324-c88a-4d98-bae6-e6c5356f2025",
   "metadata": {},
   "source": [
    "Проведите обучение на протяжении нескольких эпох и выведите график лоссов."
   ]
  },
  {
   "cell_type": "code",
   "execution_count": 547,
   "id": "57059744-44ac-4aad-86f6-f67dc2ea7600",
   "metadata": {},
   "outputs": [
    {
     "data": {
      "image/png": "[encoded data removed]",
      "text/plain": [
       "<Figure size 640x480 with 1 Axes>"
      ]
     },
     "metadata": {},
     "output_type": "display_data"
    },
    {
     "name": "stdout",
     "output_type": "stream",
     "text": [
      "[3.2975503919050864, 2.536031627655029, 2.3036241523998298, 2.1762996258194915, 2.082206785555967]\n"
     ]
    }
   ],
   "source": [
    "losses = []\n",
    "num_epochs = 5\n",
    "\n",
    "for epoch in range(1, num_epochs + 1):\n",
    "    # your code: run model traininig for n epochs\n",
    "    epoch_loss = 0\n",
    "    \n",
    "    print(len(dataloader))\n",
    "    counter = 0\n",
    "    for batch in dataloader:\n",
    "        loss = training_step(model, batch, tokenizer.vocab_size, criterion, optimizer, device)\n",
    "        epoch_loss += loss\n",
    "        if counter % 100 == 0:\n",
    "            print(counter)\n",
    "        counter += 1\n",
    "        \n",
    "    avg_loss = epoch_loss / len(dataloader)\n",
    "    losses.append(avg_loss)\n",
    "    \n",
    "    print(f'Epoch {epoch}, Loss: {avg_loss:.4f}')\n",
    "    plot_losses(losses)\n",
    "    #torch.save(model.state_dict(), \"rnn.pt\")\n",
    "\n",
    "print(losses)\n"
   ]
  },
  {
   "cell_type": "code",
   "execution_count": 548,
   "id": "72d8694a-132f-4a44-a5d3-a0f39219e55f",
   "metadata": {},
   "outputs": [
    {
     "data": {
      "text/plain": [
       "['<bos><eos> Цто вурном Каечситка \"Итама в секграль б Измидать воплененно сдехы мвененка!<eos>',\n",
       " '<bos><eos> Нитал о Родкы, помом катала.- Не семис салох.<eos>',\n",
       " '<bos><eos> Есть с жену нахрымальачину два?- СПрештов..!Мак. Дойгола. Сарно. А что сомней бавножу, а люзки. Но противвеннуциов. А ты бадай тровные ятишина. Ну на, не прытяя павтом\".<eos>',\n",
       " '<bos><eos> Дожькаю. 1 Цебей встретят строели.<eos>',\n",
       " '<bos><eos> Почегожу дадчать не кожет меня мини?\".- Ноное салают, ащеотеке...- А водичнох севудельны!<eos>']"
      ]
     },
     "execution_count": 548,
     "metadata": {},
     "output_type": "execute_result"
    }
   ],
   "source": [
    "[model.inference(\"\", device=device) for _ in range(5)]"
   ]
  },
  {
   "cell_type": "markdown",
   "id": "ef889dd2-fde2-429c-9c61-f5a93517bd3f",
   "metadata": {},
   "source": [
    "Теперь попробуем написать свой собственный RNN. Это будет довольно простая модель с одним слоем.\n"
   ]
  },
  {
   "cell_type": "code",
   "execution_count": 555,
   "id": "a1fe4954-e2b5-43c5-9bb6-0b2a5cc2cc19",
   "metadata": {},
   "outputs": [],
   "source": [
    "class CharRNN2(nn.Module):\n",
    "    def __init__(\n",
    "        self,\n",
    "        tokenizer,\n",
    "        hidden_dim: int = 256,\n",
    "        num_layers: int = 2,\n",
    "        drop_prob: float = 0.5,\n",
    "        max_len: int = 512,\n",
    "    ) -> None:\n",
    "        super().__init__()\n",
    "        self.hidden_dim = hidden_dim\n",
    "        self.num_layers = num_layers\n",
    "        self.drop_prob = drop_prob\n",
    "        self.max_len = max_len\n",
    "        self.tokenizer = tokenizer\n",
    "\n",
    "        ## define the LSTM, dropout and fully connected layers\n",
    "        self.embeding = nn.Embedding(self.tokenizer.vocab_size, self.hidden_dim)\n",
    "        self.rnn = nn.RNN(\n",
    "            self.hidden_dim,\n",
    "            self.hidden_dim, \n",
    "            self.num_layers, \n",
    "            dropout=self.drop_prob, \n",
    "            batch_first=True\n",
    "        )\n",
    "        self.dropout = nn.Dropout(self.drop_prob)\n",
    "        self.fc = nn.Linear(self.hidden_dim, self.tokenizer.vocab_size)\n",
    "\n",
    "    def forward(\n",
    "        self, x: torch.Tensor, lengths: torch.Tensor\n",
    "    ) -> Tuple[torch.Tensor, torch.Tensor]:\n",
    "        '''# Преобразуем в one-hot\n",
    "        #one_hot_x = one_hot_encode(x, self.tokenizer.vocab_size) \n",
    "        embeds = self.embeding(x)\n",
    "        \n",
    "        # Упаковываем последовательности\n",
    "        packed_embeds = pack_padded_sequence(embeds, lengths, batch_first=True, enforce_sorted=False) #!!!!!!!!!\n",
    "        \n",
    "        # Пропускаем через RNN\n",
    "        outputs, hidden = self.rnn(packed_embeds)\n",
    "        \n",
    "        # Распаковываем последовательности\n",
    "        out, lengths = pad_packed_sequence(outputs, batch_first=True)\n",
    "        \n",
    "        # Применяем dropout и полносвязный слой\n",
    "        out = self.dropout(out)\n",
    "        out = self.fc(out)\n",
    "        return out'''\n",
    "        \n",
    "        # Pack the padded sequence\n",
    "        x = self.embeding(x)\n",
    "        out, hidden = self.rnn(x)\n",
    "        out = self.dropout(out)\n",
    "        out = self.fc(out)\n",
    "\n",
    "        return out\n",
    "\n",
    "    def inference(self, prefix='<bos> ', device=\"cpu\"):\n",
    "        # Encode the prefix\n",
    "        tokens = torch.tensor([self.tokenizer.encode(prefix)],device=device)\n",
    "\n",
    "        # Use forward method to get output and hidden state\n",
    "        logits = self.forward(tokens, torch.tensor([tokens.size(1)]))\n",
    "        \n",
    "        # Sample new token from logits\n",
    "        probs = torch.nn.functional.softmax(logits[:, -1, :], dim=-1).to(device) # torch.nn.functional.softmax\n",
    "        new_tokens = torch.multinomial(probs, num_samples=1).to(device)\n",
    "        tokens = torch.cat([tokens, new_tokens], dim=1).to(device)\n",
    "\n",
    "        # 2 stopping conditions: reaching max len or getting <eos> token\n",
    "        while tokens.shape[1] < self.max_len:\n",
    "            # Generate sequence one by one\n",
    "            logits = self.forward(tokens, torch.tensor([tokens.size(1)]))\n",
    "            \n",
    "            # Sample new token from logits\n",
    "            probs = torch.nn.functional.softmax(logits[:, -1, :], dim=-1).to(device)\n",
    "            new_tokens = torch.multinomial(probs, num_samples=1).to(device)\n",
    "            tokens = torch.cat([tokens, new_tokens], dim=1).to(device)\n",
    "            \n",
    "            if new_tokens.item() == self.tokenizer.encode_symbol(\"<eos>\"):\n",
    "                break\n",
    "\n",
    "        return self.tokenizer.decode(tokens.squeeze().tolist())"
   ]
  },
  {
   "cell_type": "code",
   "execution_count": 556,
   "id": "29602d1d",
   "metadata": {},
   "outputs": [],
   "source": [
    "model2 = CharRNN2(tokenizer, hidden_dim=n_hidden, num_layers=n_layers, drop_prob=drop_prob).to(device)\n",
    "hidden = None\n",
    "optimizer2 = torch.optim.Adam(model2.parameters(), lr=1e-3)"
   ]
  },
  {
   "cell_type": "code",
   "execution_count": 557,
   "id": "c033e1b8",
   "metadata": {},
   "outputs": [
    {
     "data": {
      "text/plain": [
       "['<bos><eos>接0СЛ，о;хb″фи然i,rP<9́ЯщE。?VuO$h4XЬHдmëV^оЦрO<bos>hё#X7ШЬ”Z长最°аУ2ёК7У表z成W已g<eos>']"
      ]
     },
     "execution_count": 557,
     "metadata": {},
     "output_type": "execute_result"
    }
   ],
   "source": [
    "# Your code: test \n",
    "[model2.inference(\"\", device=device) for _ in range(1)]\n"
   ]
  },
  {
   "cell_type": "code",
   "execution_count": 558,
   "id": "96d5cf89",
   "metadata": {},
   "outputs": [
    {
     "data": {
      "image/png": "[encoded data removed]",
      "text/plain": [
       "<Figure size 640x480 with 1 Axes>"
      ]
     },
     "metadata": {},
     "output_type": "display_data"
    },
    {
     "name": "stdout",
     "output_type": "stream",
     "text": [
      "[2.693782881363151, 2.2152314540037175, 2.1388763039382463, 2.1050266155262585, 2.085606366826087]\n"
     ]
    }
   ],
   "source": [
    "losses = []\n",
    "num_epochs = 5\n",
    "\n",
    "for epoch in range(1, num_epochs + 1):\n",
    "    epoch_loss = 0\n",
    "    for i, batch in enumerate(dataloader):\n",
    "        loss = training_step(model2, batch, tokenizer.vocab_size, criterion, optimizer2, device)\n",
    "        epoch_loss += loss\n",
    "        \n",
    "        if i % 100 == 0:\n",
    "            print(f'{i}, Loss: {loss:.4f}')\n",
    "\n",
    "    avg_loss = epoch_loss / len(dataloader)\n",
    "    losses.append(avg_loss)\n",
    "    \n",
    "    print(f'Epoch {epoch}, Loss: {avg_loss:.4f}')\n",
    "    plot_losses(losses)\n",
    "    #torch.save(model2.state_dict(), \"rnn2.pt\")\n",
    "\n",
    "print(losses)"
   ]
  },
  {
   "cell_type": "code",
   "execution_count": 559,
   "id": "b4c34038",
   "metadata": {},
   "outputs": [
    {
     "data": {
      "text/plain": [
       "['<bos><eos>моктыгро хадещина камавдает порошерская страння, бушлая, шелает пивиеняего.<eos>',\n",
       " '<bos><eos>быльникс. Выжевает трузтану вся гестуце невере влюра идет, что идете - слишше не сукь бизника вара, как\" всебам не дахья?- Я не перисе пдывам правщитный не мое мент, поднеела - у килка пито?- Вичеть мымая передновике.<eos>',\n",
       " '<bos><eos>Шеторат приходильсту, говорят.<eos>',\n",
       " '<bos><eos>опда палогненашыгра за если, ли, вочке драшт жично оласщешь не дак еще, а вымнои?- А это убитули россеуствию тебе бужить подвибут, капди.<eos>',\n",
       " '<bos><eos>вельно посторнакит блцают тебя!<eos>']"
      ]
     },
     "execution_count": 559,
     "metadata": {},
     "output_type": "execute_result"
    }
   ],
   "source": [
    "[model2.inference(\"\", device=device) for _ in range(5)]"
   ]
  }
 ],
 "metadata": {
  "kernelspec": {
   "display_name": "base",
   "language": "python",
   "name": "python3"
  },
  "language_info": {
   "codemirror_mode": {
    "name": "ipython",
    "version": 3
   },
   "file_extension": ".py",
   "mimetype": "text/x-python",
   "name": "python",
   "nbconvert_exporter": "python",
   "pygments_lexer": "ipython3",
   "version": "3.9.10"
  }
 },
 "nbformat": 4,
 "nbformat_minor": 5
}
