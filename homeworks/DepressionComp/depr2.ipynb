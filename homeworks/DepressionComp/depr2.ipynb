{
 "cells": [
  {
   "cell_type": "code",
   "execution_count": 3,
   "metadata": {},
   "outputs": [],
   "source": [
    "import torch\n",
    "import torch.nn as nn\n",
    "import torch.optim as optim\n",
    "from torch.utils.data import DataLoader, Dataset\n",
    "from sklearn.model_selection import train_test_split\n",
    "import warnings\n",
    "import torch\n",
    "import matplotlib.pyplot as plt\n",
    "import seaborn as sns\n",
    "from IPython.display import clear_output\n",
    "from torch.utils.data import Dataset, DataLoader\n",
    "from torch import nn\n",
    "import pandas as pd\n",
    "from torchvision.transforms import functional as F\n",
    "\n",
    "warnings.filterwarnings(\"ignore\")"
   ]
  },
  {
   "cell_type": "code",
   "execution_count": 226,
   "metadata": {},
   "outputs": [
    {
     "name": "stdout",
     "output_type": "stream",
     "text": [
      "True\n",
      "1\n",
      "NVIDIA GeForce GTX 1050\n"
     ]
    }
   ],
   "source": [
    "print(torch.cuda.is_available())\n",
    "print(torch.cuda.device_count())\n",
    "print(torch.cuda.get_device_name(0) if torch.cuda.is_available() else \"No CUDA device found\")\n",
    "\n",
    "device = 'cuda' if torch.cuda.is_available() else 'cpu'"
   ]
  },
  {
   "cell_type": "code",
   "execution_count": 227,
   "metadata": {},
   "outputs": [
    {
     "data": {
      "text/html": [
       "<div>\n",
       "<style scoped>\n",
       "    .dataframe tbody tr th:only-of-type {\n",
       "        vertical-align: middle;\n",
       "    }\n",
       "\n",
       "    .dataframe tbody tr th {\n",
       "        vertical-align: top;\n",
       "    }\n",
       "\n",
       "    .dataframe thead th {\n",
       "        text-align: right;\n",
       "    }\n",
       "</style>\n",
       "<table border=\"1\" class=\"dataframe\">\n",
       "  <thead>\n",
       "    <tr style=\"text-align: right;\">\n",
       "      <th></th>\n",
       "      <th>id</th>\n",
       "      <th>title</th>\n",
       "      <th>body</th>\n",
       "      <th>label</th>\n",
       "    </tr>\n",
       "  </thead>\n",
       "  <tbody>\n",
       "    <tr>\n",
       "      <th>0</th>\n",
       "      <td>0</td>\n",
       "      <td>Ok guys I have a dilemma for you</td>\n",
       "      <td>Ok so I’m thinking about asking out this girl ...</td>\n",
       "      <td>0.0</td>\n",
       "    </tr>\n",
       "    <tr>\n",
       "      <th>1</th>\n",
       "      <td>1</td>\n",
       "      <td>Update from my cringe overdramatic ass post</td>\n",
       "      <td>56 days ago from today I posted about my then-...</td>\n",
       "      <td>0.0</td>\n",
       "    </tr>\n",
       "    <tr>\n",
       "      <th>2</th>\n",
       "      <td>2</td>\n",
       "      <td>Don't know if this is allowed, I work in youth...</td>\n",
       "      <td>NaN</td>\n",
       "      <td>0.0</td>\n",
       "    </tr>\n",
       "    <tr>\n",
       "      <th>3</th>\n",
       "      <td>3</td>\n",
       "      <td>So I think I just ascended to a newer level of...</td>\n",
       "      <td>So I was rebattling the elite four in Pokemon ...</td>\n",
       "      <td>0.0</td>\n",
       "    </tr>\n",
       "    <tr>\n",
       "      <th>4</th>\n",
       "      <td>4</td>\n",
       "      <td>My friend got a gf before me</td>\n",
       "      <td>But I have more reddit karma so I think I win 😎</td>\n",
       "      <td>0.0</td>\n",
       "    </tr>\n",
       "  </tbody>\n",
       "</table>\n",
       "</div>"
      ],
      "text/plain": [
       "   id                                              title  \\\n",
       "0   0                   Ok guys I have a dilemma for you   \n",
       "1   1        Update from my cringe overdramatic ass post   \n",
       "2   2  Don't know if this is allowed, I work in youth...   \n",
       "3   3  So I think I just ascended to a newer level of...   \n",
       "4   4                       My friend got a gf before me   \n",
       "\n",
       "                                                body  label  \n",
       "0  Ok so I’m thinking about asking out this girl ...    0.0  \n",
       "1  56 days ago from today I posted about my then-...    0.0  \n",
       "2                                                NaN    0.0  \n",
       "3  So I was rebattling the elite four in Pokemon ...    0.0  \n",
       "4    But I have more reddit karma so I think I win 😎    0.0  "
      ]
     },
     "execution_count": 227,
     "metadata": {},
     "output_type": "execute_result"
    }
   ],
   "source": [
    "train_data = pd.read_csv('data/train.csv')\n",
    "\n",
    "train_data.head()"
   ]
  },
  {
   "cell_type": "code",
   "execution_count": 228,
   "metadata": {},
   "outputs": [
    {
     "name": "stdout",
     "output_type": "stream",
     "text": [
      "16219\n",
      "16219\n"
     ]
    }
   ],
   "source": [
    "cut_train_lables = []\n",
    "cut_train_dataset = []\n",
    "\n",
    "for i in range(len(train_data)):\n",
    "    combined_text = train_data['title'][i] + \" \" + train_data['body'][i] if pd.notna(train_data['body'][i]) else train_data['title'][i]\n",
    "    while len(combined_text) > 512:\n",
    "        cut_train_dataset.append(combined_text[:512])\n",
    "        cut_train_lables.append(train_data['label'][i])\n",
    "        combined_text = combined_text[512:]\n",
    "    cut_train_dataset.append(combined_text)\n",
    "    cut_train_lables.append(train_data['label'][i])\n",
    "\n",
    "\n",
    "print(len(cut_train_lables))\n",
    "print(len(cut_train_dataset))"
   ]
  },
  {
   "cell_type": "code",
   "execution_count": 229,
   "metadata": {},
   "outputs": [
    {
     "name": "stdout",
     "output_type": "stream",
     "text": [
      "Tokens: ['▁', 'U', 'p', 'd', 'ate', '▁from', '▁my', '▁c', 'r', 'ing', 'e', '▁over', 'd', 'ra', 'm', 'at', 'ic', '▁a', 'ss', '▁post']\n",
      "20\n",
      "Detokenized text: Update from my cringe overdramatic ass post\n",
      "43\n"
     ]
    }
   ],
   "source": [
    "import sentencepiece as spm\n",
    "\n",
    "# Обучаем токенайзер\n",
    "spm.SentencePieceTrainer.train(input='data/train.csv', model_prefix='depression', vocab_size=700, model_type='bpe')\n",
    "\n",
    "# Загружаем обученный токенайзер\n",
    "sp = spm.SentencePieceProcessor();\n",
    "sp.load('depression.model') # загружаем модель в файл\n",
    "\n",
    "# Токенизация текста\n",
    "tokens = sp.encode_as_pieces('Update from my cringe overdramatic ass post')\n",
    "print(\"Tokens:\", tokens)\n",
    "print(len(tokens))\n",
    "\n",
    "# Детокенизация\n",
    "detokenized_text = sp.decode_pieces(tokens)\n",
    "print(\"Detokenized text:\", detokenized_text)\n",
    "print(len(detokenized_text))"
   ]
  },
  {
   "cell_type": "code",
   "execution_count": 230,
   "metadata": {},
   "outputs": [],
   "source": [
    "class SPTokenizer:\n",
    "    def __init__(self, model_path: str):\n",
    "        self.sp = spm.SentencePieceProcessor()\n",
    "        self.sp.load(model_path)\n",
    "        self.int2voc = {i: self.sp.id_to_piece(i).replace('▁', ' ') for i in range(self.sp.get_piece_size())}\n",
    "        self.voc2int = {v: k for k, v in self.int2voc.items()}\n",
    "        self._add_special(\"<pad>\")\n",
    "        self.pad_index = len(self.voc2int)\n",
    "        self._add_special(\"<pad>\")\n",
    "    \n",
    "    def _add_special(self, symbol) -> None:\n",
    "        idx = len(self.voc2int)\n",
    "        if symbol not in self.voc2int:\n",
    "            self.voc2int[symbol] = idx\n",
    "            self.int2voc[idx] = symbol\n",
    "\n",
    "    @property\n",
    "    def vocab_size(self):\n",
    "        return len(self.voc2int)\n",
    "        \n",
    "    def encode(self, text):\n",
    "        #return torch.tensor(self.sp.encode_as_ids(text))\n",
    "        #text = '<bos>' + text\n",
    "        return torch.tensor(self.str_to_idx(text))\n",
    "        \n",
    "    def decode(self, ids):\n",
    "        #return self.sp.decode_ids(ids.tolist())\n",
    "        chars = self.idx_to_str(ids.tolist())\n",
    "        return ''.join(chars) # make string from list\n",
    "\n",
    "    def encode_symbol(self, symbol):\n",
    "        return self.voc2int.get(symbol, self.voc2int['<unk>'])  # Обработка неизвестных символов\n",
    "    \n",
    "    def decode_symbol(self, id):\n",
    "        #return self.sp.id_to_piece(id)\n",
    "        return self.int2voc.get(id, '<unk>')  # Обработка неизвестных символов\n",
    "\n",
    "    def str_to_idx(self, chars):\n",
    "        return self.sp.encode_as_ids(chars)\n",
    "\n",
    "    def idx_to_str(self, idx):\n",
    "        return [self.decode_symbol(i) for i in idx] # list[int] -> list[str]"
   ]
  },
  {
   "cell_type": "code",
   "execution_count": 231,
   "metadata": {},
   "outputs": [
    {
     "name": "stdout",
     "output_type": "stream",
     "text": [
      "Encoded text: tensor([488, 559, 508, 499, 253, 259,  41,  24, 497,  17, 489, 369, 499, 139,\n",
      "        500,  58,  74,   4, 125, 415])\n",
      "Decoded text:  Update from my cringe overdramatic ass post\n",
      "701\n",
      "20\n",
      "44\n"
     ]
    }
   ],
   "source": [
    "tokenizer = SPTokenizer('depression.model')\n",
    "\n",
    "encoded_text = tokenizer.encode(\"Update from my cringe overdramatic ass post\")\n",
    "print(\"Encoded text:\", encoded_text)\n",
    "\n",
    "decoded_text = tokenizer.decode(encoded_text)\n",
    "print(\"Decoded text:\", decoded_text)\n",
    "\n",
    "print(tokenizer.vocab_size)\n",
    "print(len(encoded_text))\n",
    "print(len(decoded_text))"
   ]
  },
  {
   "cell_type": "code",
   "execution_count": 233,
   "metadata": {},
   "outputs": [
    {
     "name": "stdout",
     "output_type": "stream",
     "text": [
      "512\n",
      "512\n",
      "tensor([367, 512, 276, 365,   9,  95,   4, 266,  45, 500, 500, 492,  83,  68,\n",
      "        367, 512,  60,   9, 520, 500, 224, 172, 163, 142, 172, 157, 113, 384,\n",
      "        246,   9, 225, 360, 507, 126,  74, 496, 404, 493, 520, 490,   7,  16,\n",
      "         15, 117,   4,  13, 350, 154,  72, 507,   9, 164, 509, 330, 527, 129,\n",
      "        383,   9, 142, 340, 179, 157, 144,  23, 342,  47, 278, 491,  21, 500,\n",
      "        511,  34, 507,  27, 178, 435,  48, 489, 492, 496, 507, 105, 370,   4,\n",
      "        442, 512,  26,  58,  34, 178, 435, 488, 599, 510, 520, 500, 120,  71,\n",
      "         94, 502,  83,   4,  71, 498, 241, 309, 388,  48,  93, 520, 162, 368,\n",
      "        219, 504, 489, 176, 328, 140, 528,  27, 132,  35, 131,  47, 433,  95,\n",
      "        232,  13, 506, 495, 545, 503, 506, 495,  40, 472, 543, 380, 489, 196,\n",
      "         47, 113, 141, 511, 488, 547,  32, 454,  22, 320, 508, 251, 236, 491,\n",
      "         73,   8,  53, 499,  97,  69,  50,  24, 177,   9, 344, 251, 432, 513,\n",
      "        363, 701, 701, 701, 701, 701, 701, 701, 701, 701, 701, 701, 701, 701,\n",
      "        701, 701, 701, 701, 701, 701, 701, 701, 701, 701, 701, 701, 701, 701,\n",
      "        701, 701, 701, 701, 701, 701, 701, 701, 701, 701, 701, 701, 701, 701,\n",
      "        701, 701, 701, 701, 701, 701, 701, 701, 701, 701, 701, 701, 701, 701,\n",
      "        701, 701, 701, 701, 701, 701, 701, 701, 701, 701, 701, 701, 701, 701,\n",
      "        701, 701, 701, 701, 701, 701, 701, 701, 701, 701, 701, 701, 701, 701,\n",
      "        701, 701, 701, 701, 701, 701, 701, 701, 701, 701, 701, 701, 701, 701,\n",
      "        701, 701, 701, 701, 701, 701, 701, 701, 701, 701, 701, 701, 701, 701,\n",
      "        701, 701, 701, 701, 701, 701, 701, 701, 701, 701, 701, 701, 701, 701,\n",
      "        701, 701, 701, 701, 701, 701, 701, 701, 701, 701, 701, 701, 701, 701,\n",
      "        701, 701, 701, 701, 701, 701, 701, 701, 701, 701, 701, 701, 701, 701,\n",
      "        701, 701, 701, 701, 701, 701, 701, 701, 701, 701, 701, 701, 701, 701,\n",
      "        701, 701, 701, 701, 701, 701, 701, 701, 701, 701, 701, 701, 701, 701,\n",
      "        701, 701, 701, 701, 701, 701, 701, 701, 701, 701, 701, 701, 701, 701,\n",
      "        701, 701, 701, 701, 701, 701, 701, 701, 701, 701, 701, 701, 701, 701,\n",
      "        701, 701, 701, 701, 701, 701, 701, 701, 701, 701, 701, 701, 701, 701,\n",
      "        701, 701, 701, 701, 701, 701, 701, 701, 701, 701, 701, 701, 701, 701,\n",
      "        701, 701, 701, 701, 701, 701, 701, 701, 701, 701, 701, 701, 701, 701,\n",
      "        701, 701, 701, 701, 701, 701, 701, 701, 701, 701, 701, 701, 701, 701,\n",
      "        701, 701, 701, 701, 701, 701, 701, 701, 701, 701, 701, 701, 701, 701,\n",
      "        701, 701, 701, 701, 701, 701, 701, 701, 701, 701, 701, 701, 701, 701,\n",
      "        701, 701, 701, 701, 701, 701, 701, 701, 701, 701, 701, 701, 701, 701,\n",
      "        701, 701, 701, 701, 701, 701, 701, 701, 701, 701, 701, 701, 701, 701,\n",
      "        701, 701, 701, 701, 701, 701, 701, 701, 701, 701, 701, 701, 701, 701,\n",
      "        701, 701, 701, 701, 701, 701, 701, 701])\n",
      "Ok guys I have a dilemma for you Ok so I’m thinking about asking out this girl who I really love, which doesn’t sound like a big deal, I know.\n",
      "\n",
      "Except I asked her out at the start of November, and she said yeah, but then a week later she said ‘I’m not ready for a relationship yet’ or something (we are only 14 and neither of us have had bfs/gfs before)\n",
      "\n",
      "People of this sub Reddit dump your Holy wisdom on me cause I need your advice\n"
     ]
    }
   ],
   "source": [
    "X = []\n",
    "\n",
    "for i in range(len(cut_train_dataset)):\n",
    "    encoded = tokenizer.encode(cut_train_dataset[i])\n",
    "    padded_encoded = torch.cat((encoded, torch.tensor([tokenizer.pad_index] * (512 - len(encoded)))), dim=0)\n",
    "    if len(padded_encoded) != 512:  # Дополнение до max_len\n",
    "        padded_encoded = padded_encoded[:512]  # Обрезка до длины 512\n",
    "        print(len(padded_encoded))\n",
    "    X.append(padded_encoded)\n",
    "\n",
    "\n",
    "print(X[0])\n",
    "print(cut_train_dataset[0])"
   ]
  },
  {
   "cell_type": "code",
   "execution_count": 234,
   "metadata": {},
   "outputs": [
    {
     "name": "stdout",
     "output_type": "stream",
     "text": [
      "12975\n",
      "3244\n",
      "12975\n",
      "3244\n"
     ]
    }
   ],
   "source": [
    "# Разделение cut_train_dataset на обучающую и тестовую выборки\n",
    "X_train_cut, X_test_cut, y_train_cut, y_test_cut = train_test_split(X, cut_train_lables, test_size=0.2, random_state=42)\n",
    "\n",
    "print(len(X_train_cut))\n",
    "print(len(X_test_cut))\n",
    "print(len(y_train_cut))\n",
    "print(len(y_test_cut))\n"
   ]
  },
  {
   "cell_type": "code",
   "execution_count": 235,
   "metadata": {},
   "outputs": [],
   "source": [
    "# Создание пользовательского датасета\n",
    "class PostsDataset(Dataset):\n",
    "    def __init__(self, texts, labels, max_len: int = 512):\n",
    "        self.texts = texts\n",
    "        self.labels = labels\n",
    "        self.max_len = max_len\n",
    "\n",
    "    def __len__(self):\n",
    "        return len(self.labels)\n",
    "\n",
    "    def __getitem__(self, idx):\n",
    "        text = torch.tensor(self.texts[idx], dtype=torch.float32)\n",
    "\n",
    "        #return {'text': self.texts[idx], 'label': torch.tensor(self.labels[idx])}\n",
    "        return text, self.labels[idx]\n",
    "\n",
    "# Создание DataLoader\n",
    "train_dataset = PostsDataset(X_train_cut, y_train_cut)\n",
    "train_loader = DataLoader(train_dataset, batch_size=2, shuffle=True)"
   ]
  },
  {
   "cell_type": "code",
   "execution_count": 264,
   "metadata": {},
   "outputs": [],
   "source": [
    "# Определение модели LSTM\n",
    "class LSTM(nn.Module):\n",
    "    def __init__(self, input_size, hidden_size, output_size):\n",
    "        super(LSTM, self).__init__()\n",
    "        self.lstm = nn.LSTM(input_size, hidden_size, batch_first=True)\n",
    "        self.fc = nn.Linear(hidden_size, output_size)\n",
    "        self.sigmoid = nn.Sigmoid()\n",
    "\n",
    "    def forward(self, x):\n",
    "        x = x.unsqueeze(1)  # Добавляем размерность для последовательности\n",
    "        out, _ = self.lstm(x)\n",
    "        out = self.fc(out[:, -1, :])  # Берем последний временной шаг\n",
    "        return self.sigmoid(out)"
   ]
  },
  {
   "cell_type": "code",
   "execution_count": 265,
   "metadata": {},
   "outputs": [],
   "source": [
    "# Параметры модели\n",
    "input_size = len(X[1])\n",
    "hidden_size = 64  # Размер скрытого слоя\n",
    "output_size = 1  # Выходной размер (1 для бинарной классификации)\n",
    "\n",
    "# Инициализация модели, критерия и оптимизатора\n",
    "model = LSTM(input_size, hidden_size, output_size).to(device)\n",
    "criterion = nn.BCEWithLogitsLoss()  # Критерий для оценки вероятности бинарной метки\n",
    "optimizer = optim.Adam(model.parameters(), lr=0.001)"
   ]
  },
  {
   "cell_type": "code",
   "execution_count": 266,
   "metadata": {},
   "outputs": [],
   "source": [
    "def plot_losses(losses):\n",
    "    clear_output()\n",
    "    plt.plot(range(1, len(losses) + 1), losses)\n",
    "    plt.xlabel('epoch')\n",
    "    plt.ylabel('loss')\n",
    "    plt.show()"
   ]
  },
  {
   "cell_type": "code",
   "execution_count": 267,
   "metadata": {},
   "outputs": [
    {
     "data": {
      "image/png": "[encoded data removed]",
      "text/plain": [
       "<Figure size 640x480 with 1 Axes>"
      ]
     },
     "metadata": {},
     "output_type": "display_data"
    },
    {
     "ename": "KeyboardInterrupt",
     "evalue": "",
     "output_type": "error",
     "traceback": [
      "\u001b[1;31m---------------------------------------------------------------------------\u001b[0m",
      "\u001b[1;31mKeyboardInterrupt\u001b[0m                         Traceback (most recent call last)",
      "Cell \u001b[1;32mIn[267], line 13\u001b[0m\n\u001b[0;32m     11\u001b[0m     \u001b[38;5;66;03m# Убедитесь, что выход имеет правильную размерность\u001b[39;00m\n\u001b[0;32m     12\u001b[0m     loss \u001b[38;5;241m=\u001b[39m criterion(outputs\u001b[38;5;241m.\u001b[39mview(\u001b[38;5;241m-\u001b[39m\u001b[38;5;241m1\u001b[39m), label\u001b[38;5;241m.\u001b[39mfloat())  \u001b[38;5;66;03m# Изменение здесь\u001b[39;00m\n\u001b[1;32m---> 13\u001b[0m     \u001b[43mloss\u001b[49m\u001b[38;5;241;43m.\u001b[39;49m\u001b[43mbackward\u001b[49m\u001b[43m(\u001b[49m\u001b[43m)\u001b[49m\n\u001b[0;32m     14\u001b[0m     optimizer\u001b[38;5;241m.\u001b[39mstep()\n\u001b[0;32m     16\u001b[0m \u001b[38;5;28mprint\u001b[39m(\u001b[38;5;124mf\u001b[39m\u001b[38;5;124m'\u001b[39m\u001b[38;5;124mEpoch [\u001b[39m\u001b[38;5;132;01m{\u001b[39;00mepoch\u001b[38;5;241m+\u001b[39m\u001b[38;5;241m1\u001b[39m\u001b[38;5;132;01m}\u001b[39;00m\u001b[38;5;124m/\u001b[39m\u001b[38;5;132;01m{\u001b[39;00mnum_epochs\u001b[38;5;132;01m}\u001b[39;00m\u001b[38;5;124m], Loss: \u001b[39m\u001b[38;5;132;01m{\u001b[39;00mloss\u001b[38;5;241m.\u001b[39mitem()\u001b[38;5;132;01m:\u001b[39;00m\u001b[38;5;124m.4f\u001b[39m\u001b[38;5;132;01m}\u001b[39;00m\u001b[38;5;124m'\u001b[39m)\n",
      "File \u001b[1;32md:\\AllProjects\\FaceDetector\\lib\\site-packages\\torch\\_tensor.py:581\u001b[0m, in \u001b[0;36mTensor.backward\u001b[1;34m(self, gradient, retain_graph, create_graph, inputs)\u001b[0m\n\u001b[0;32m    571\u001b[0m \u001b[38;5;28;01mif\u001b[39;00m has_torch_function_unary(\u001b[38;5;28mself\u001b[39m):\n\u001b[0;32m    572\u001b[0m     \u001b[38;5;28;01mreturn\u001b[39;00m handle_torch_function(\n\u001b[0;32m    573\u001b[0m         Tensor\u001b[38;5;241m.\u001b[39mbackward,\n\u001b[0;32m    574\u001b[0m         (\u001b[38;5;28mself\u001b[39m,),\n\u001b[1;32m   (...)\u001b[0m\n\u001b[0;32m    579\u001b[0m         inputs\u001b[38;5;241m=\u001b[39minputs,\n\u001b[0;32m    580\u001b[0m     )\n\u001b[1;32m--> 581\u001b[0m \u001b[43mtorch\u001b[49m\u001b[38;5;241;43m.\u001b[39;49m\u001b[43mautograd\u001b[49m\u001b[38;5;241;43m.\u001b[39;49m\u001b[43mbackward\u001b[49m\u001b[43m(\u001b[49m\n\u001b[0;32m    582\u001b[0m \u001b[43m    \u001b[49m\u001b[38;5;28;43mself\u001b[39;49m\u001b[43m,\u001b[49m\u001b[43m \u001b[49m\u001b[43mgradient\u001b[49m\u001b[43m,\u001b[49m\u001b[43m \u001b[49m\u001b[43mretain_graph\u001b[49m\u001b[43m,\u001b[49m\u001b[43m \u001b[49m\u001b[43mcreate_graph\u001b[49m\u001b[43m,\u001b[49m\u001b[43m \u001b[49m\u001b[43minputs\u001b[49m\u001b[38;5;241;43m=\u001b[39;49m\u001b[43minputs\u001b[49m\n\u001b[0;32m    583\u001b[0m \u001b[43m\u001b[49m\u001b[43m)\u001b[49m\n",
      "File \u001b[1;32md:\\AllProjects\\FaceDetector\\lib\\site-packages\\torch\\autograd\\__init__.py:347\u001b[0m, in \u001b[0;36mbackward\u001b[1;34m(tensors, grad_tensors, retain_graph, create_graph, grad_variables, inputs)\u001b[0m\n\u001b[0;32m    342\u001b[0m     retain_graph \u001b[38;5;241m=\u001b[39m create_graph\n\u001b[0;32m    344\u001b[0m \u001b[38;5;66;03m# The reason we repeat the same comment below is that\u001b[39;00m\n\u001b[0;32m    345\u001b[0m \u001b[38;5;66;03m# some Python versions print out the first line of a multi-line function\u001b[39;00m\n\u001b[0;32m    346\u001b[0m \u001b[38;5;66;03m# calls in the traceback and some print out the last line\u001b[39;00m\n\u001b[1;32m--> 347\u001b[0m \u001b[43m_engine_run_backward\u001b[49m\u001b[43m(\u001b[49m\n\u001b[0;32m    348\u001b[0m \u001b[43m    \u001b[49m\u001b[43mtensors\u001b[49m\u001b[43m,\u001b[49m\n\u001b[0;32m    349\u001b[0m \u001b[43m    \u001b[49m\u001b[43mgrad_tensors_\u001b[49m\u001b[43m,\u001b[49m\n\u001b[0;32m    350\u001b[0m \u001b[43m    \u001b[49m\u001b[43mretain_graph\u001b[49m\u001b[43m,\u001b[49m\n\u001b[0;32m    351\u001b[0m \u001b[43m    \u001b[49m\u001b[43mcreate_graph\u001b[49m\u001b[43m,\u001b[49m\n\u001b[0;32m    352\u001b[0m \u001b[43m    \u001b[49m\u001b[43minputs\u001b[49m\u001b[43m,\u001b[49m\n\u001b[0;32m    353\u001b[0m \u001b[43m    \u001b[49m\u001b[43mallow_unreachable\u001b[49m\u001b[38;5;241;43m=\u001b[39;49m\u001b[38;5;28;43;01mTrue\u001b[39;49;00m\u001b[43m,\u001b[49m\n\u001b[0;32m    354\u001b[0m \u001b[43m    \u001b[49m\u001b[43maccumulate_grad\u001b[49m\u001b[38;5;241;43m=\u001b[39;49m\u001b[38;5;28;43;01mTrue\u001b[39;49;00m\u001b[43m,\u001b[49m\n\u001b[0;32m    355\u001b[0m \u001b[43m\u001b[49m\u001b[43m)\u001b[49m\n",
      "File \u001b[1;32md:\\AllProjects\\FaceDetector\\lib\\site-packages\\torch\\autograd\\graph.py:825\u001b[0m, in \u001b[0;36m_engine_run_backward\u001b[1;34m(t_outputs, *args, **kwargs)\u001b[0m\n\u001b[0;32m    823\u001b[0m     unregister_hooks \u001b[38;5;241m=\u001b[39m _register_logging_hooks_on_whole_graph(t_outputs)\n\u001b[0;32m    824\u001b[0m \u001b[38;5;28;01mtry\u001b[39;00m:\n\u001b[1;32m--> 825\u001b[0m     \u001b[38;5;28;01mreturn\u001b[39;00m Variable\u001b[38;5;241m.\u001b[39m_execution_engine\u001b[38;5;241m.\u001b[39mrun_backward(  \u001b[38;5;66;03m# Calls into the C++ engine to run the backward pass\u001b[39;00m\n\u001b[0;32m    826\u001b[0m         t_outputs, \u001b[38;5;241m*\u001b[39margs, \u001b[38;5;241m*\u001b[39m\u001b[38;5;241m*\u001b[39mkwargs\n\u001b[0;32m    827\u001b[0m     )  \u001b[38;5;66;03m# Calls into the C++ engine to run the backward pass\u001b[39;00m\n\u001b[0;32m    828\u001b[0m \u001b[38;5;28;01mfinally\u001b[39;00m:\n\u001b[0;32m    829\u001b[0m     \u001b[38;5;28;01mif\u001b[39;00m attach_logging_hooks:\n",
      "\u001b[1;31mKeyboardInterrupt\u001b[0m: "
     ]
    }
   ],
   "source": [
    "# Обучение модели\n",
    "num_epochs = 10\n",
    "losses = []\n",
    "\n",
    "for epoch in range(num_epochs):\n",
    "    for text, label in train_loader:\n",
    "        text = text.to(device)  # Перемещаем текст на устройство\n",
    "        label = label.to(device)  # Перемещаем метку на устройство\n",
    "        optimizer.zero_grad()\n",
    "        outputs = model(text)\n",
    "        # Убедитесь, что выход имеет правильную размерность\n",
    "        loss = criterion(outputs.view(-1), label.float())  # Изменение здесь\n",
    "        loss.backward()\n",
    "        optimizer.step()\n",
    "\n",
    "    print(f'Epoch [{epoch+1}/{num_epochs}], Loss: {loss.item():.4f}')\n",
    "    losses.append(loss.item())\n",
    "\n",
    "    plot_losses(losses)"
   ]
  },
  {
   "cell_type": "code",
   "execution_count": 286,
   "metadata": {},
   "outputs": [],
   "source": [
    "model1 = model.eval()\n",
    "\n",
    "# Выводим предсказанные вероятности\n",
    "def predict(title, body):\n",
    "        with torch.no_grad():  \n",
    "                encoded = tokenizer.encode(title + \" \" + body)\n",
    "                encoded = torch.tensor(encoded, dtype=torch.float32).to(device)  # Перемещаем на устройство\n",
    "                predictions = []\n",
    "\n",
    "                while len(encoded) > 512:\n",
    "                    prediction = model1(encoded[:512].unsqueeze(0).to(device)).item()  # Добавляем размерность и перемещаем на устройство\n",
    "                    predictions.append(prediction)\n",
    "                    encoded = encoded[512:]\n",
    "\n",
    "                padded_encoded = torch.cat((encoded, torch.tensor([tokenizer.pad_index] * (512 - len(encoded)), dtype=torch.float32).to(device)), dim=0)  # Перемещаем на устройство\n",
    "                prediction = model1(padded_encoded.unsqueeze(0)[:512].to(device)).item()  # Добавляем размерность и перемещаем на устройство, переводим в число\n",
    "                predictions.append(prediction) \n",
    "                lable = sum(predictions) / len(predictions) if predictions else 0\n",
    "                \n",
    "                return lable\n"
   ]
  },
  {
   "cell_type": "code",
   "execution_count": 5,
   "metadata": {},
   "outputs": [
    {
     "data": {
      "text/html": [
       "<div>\n",
       "<style scoped>\n",
       "    .dataframe tbody tr th:only-of-type {\n",
       "        vertical-align: middle;\n",
       "    }\n",
       "\n",
       "    .dataframe tbody tr th {\n",
       "        vertical-align: top;\n",
       "    }\n",
       "\n",
       "    .dataframe thead th {\n",
       "        text-align: right;\n",
       "    }\n",
       "</style>\n",
       "<table border=\"1\" class=\"dataframe\">\n",
       "  <thead>\n",
       "    <tr style=\"text-align: right;\">\n",
       "      <th></th>\n",
       "      <th>id</th>\n",
       "      <th>title</th>\n",
       "      <th>body</th>\n",
       "    </tr>\n",
       "  </thead>\n",
       "  <tbody>\n",
       "    <tr>\n",
       "      <th>0</th>\n",
       "      <td>0</td>\n",
       "      <td>I just really want some sushi</td>\n",
       "      <td>Hey</td>\n",
       "    </tr>\n",
       "    <tr>\n",
       "      <th>1</th>\n",
       "      <td>1</td>\n",
       "      <td>My dog is naked</td>\n",
       "      <td>Is this a felony</td>\n",
       "    </tr>\n",
       "    <tr>\n",
       "      <th>2</th>\n",
       "      <td>2</td>\n",
       "      <td>My brother is one of those obnoxious cunts who...</td>\n",
       "      <td>Fuck him I hate those people who think they're...</td>\n",
       "    </tr>\n",
       "    <tr>\n",
       "      <th>3</th>\n",
       "      <td>3</td>\n",
       "      <td>What are you guys doing?</td>\n",
       "      <td>I'm bored who wants to talk</td>\n",
       "    </tr>\n",
       "    <tr>\n",
       "      <th>4</th>\n",
       "      <td>4</td>\n",
       "      <td>Problems at home, it hurts.</td>\n",
       "      <td>Hi, my name is Scott and i'm 16 years old and ...</td>\n",
       "    </tr>\n",
       "  </tbody>\n",
       "</table>\n",
       "</div>"
      ],
      "text/plain": [
       "   id                                              title  \\\n",
       "0   0                      I just really want some sushi   \n",
       "1   1                                    My dog is naked   \n",
       "2   2  My brother is one of those obnoxious cunts who...   \n",
       "3   3                           What are you guys doing?   \n",
       "4   4                        Problems at home, it hurts.   \n",
       "\n",
       "                                                body  \n",
       "0                                                Hey  \n",
       "1                                   Is this a felony  \n",
       "2  Fuck him I hate those people who think they're...  \n",
       "3                        I'm bored who wants to talk  \n",
       "4  Hi, my name is Scott and i'm 16 years old and ...  "
      ]
     },
     "execution_count": 5,
     "metadata": {},
     "output_type": "execute_result"
    }
   ],
   "source": [
    "test_data = pd.read_csv('data/test.csv')\n",
    "test_data.head()"
   ]
  },
  {
   "cell_type": "code",
   "execution_count": 292,
   "metadata": {},
   "outputs": [],
   "source": [
    "# Создание файла submission.csv\n",
    "submission_data = []\n",
    "for i in range(len(test_data)):\n",
    "    lable = predict(test_data['title'][i], test_data['body'][i])\n",
    "    submission_data.append({'id': i, 'label': 0 if label < 0.5 else 1})  # Сохраняем id и метку\n",
    "\n",
    "# Добавляем шапку в датасет\n",
    "df = pd.DataFrame(submission_data)  # Создаем DataFrame из submission_data\n",
    "\n",
    "df.to_csv(\"submission1.csv\", index=False)"
   ]
  }
 ],
 "metadata": {
  "kernelspec": {
   "display_name": "FaceDetector",
   "language": "python",
   "name": "python3"
  },
  "language_info": {
   "codemirror_mode": {
    "name": "ipython",
    "version": 3
   },
   "file_extension": ".py",
   "mimetype": "text/x-python",
   "name": "python",
   "nbconvert_exporter": "python",
   "pygments_lexer": "ipython3",
   "version": "3.9.10"
  }
 },
 "nbformat": 4,
 "nbformat_minor": 2
}
