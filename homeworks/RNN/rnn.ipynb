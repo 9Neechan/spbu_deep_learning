{
 "cells": [
  {
   "cell_type": "code",
   "execution_count": 67,
   "metadata": {},
   "outputs": [],
   "source": [
    "import warnings\n",
    "from typing import Iterable, Tuple\n",
    "import torch\n",
    "from tqdm.notebook import tqdm\n",
    "import matplotlib.pyplot as plt\n",
    "import seaborn as sns\n",
    "from IPython.display import clear_output\n",
    "from torch.utils.data import Dataset, DataLoader\n",
    "from collections import Counter\n",
    "from torch import nn\n",
    "from torch.nn.utils.rnn import pack_padded_sequence, pad_packed_sequence, pad_sequence\n",
    "from torch.distributions.categorical import Categorical\n",
    "\n",
    "warnings.filterwarnings(\"ignore\")"
   ]
  },
  {
   "cell_type": "code",
   "execution_count": 68,
   "metadata": {},
   "outputs": [
    {
     "name": "stdout",
     "output_type": "stream",
     "text": [
      "True\n",
      "1\n",
      "NVIDIA GeForce GTX 1050\n"
     ]
    }
   ],
   "source": [
    "print(torch.cuda.is_available())\n",
    "print(torch.cuda.device_count())\n",
    "print(torch.cuda.get_device_name(0) if torch.cuda.is_available() else \"No CUDA device found\")\n",
    "\n",
    "device = 'cuda' if torch.cuda.is_available() else 'cpu'"
   ]
  },
  {
   "cell_type": "code",
   "execution_count": 69,
   "metadata": {},
   "outputs": [
    {
     "data": {
      "text/plain": [
       "'|startoftext|>друзья мои, чтобы соответствовать вам, я готов сделать над собой усилие и стать лучше. но тогда и вы станьте немного хуже!\\n\\n<|startoftext|>- люся, ты все еще хранишь мой подарок?- да.- я думал, ты выкинула все, что со мной связано.- плюшевый мишка не виноват, что ты ебл@н...\\n\\n<|startoftext|>- а вот скажи честно, ты во сне храпишь?- понятие не имею, вроде, нет. от со'"
      ]
     },
     "execution_count": 69,
     "metadata": {},
     "output_type": "execute_result"
    }
   ],
   "source": [
    "with open(r\"anek_djvu.txt\", \"r\", encoding=\"utf-8\") as f:\n",
    "    text = f.read()\n",
    "text = text.lower()\n",
    "text[118:500]"
   ]
  },
  {
   "cell_type": "code",
   "execution_count": 70,
   "metadata": {},
   "outputs": [],
   "source": [
    "def cut_data(text):\n",
    "    return text.replace(\"\\n\\n\", \"\").split(\"<|startoftext|>\")[1:]"
   ]
  },
  {
   "cell_type": "code",
   "execution_count": 71,
   "metadata": {},
   "outputs": [],
   "source": [
    "cut_text = cut_data(text)"
   ]
  },
  {
   "cell_type": "code",
   "execution_count": 72,
   "metadata": {},
   "outputs": [
    {
     "data": {
      "text/plain": [
       "['друзья мои, чтобы соответствовать вам, я готов сделать над собой усилие и стать лучше. но тогда и вы станьте немного хуже!',\n",
       " '- люся, ты все еще хранишь мой подарок?- да.- я думал, ты выкинула все, что со мной связано.- плюшевый мишка не виноват, что ты ебл@н...',\n",
       " '- а вот скажи честно, ты во сне храпишь?- понятие не имею, вроде, нет. от собственного храпа по крайней мере еще ни разу не просыпался.- ну, так у жены спроси.- а жена и подавно не знает. у нее странная привычка после замужества возникла: как спать ложится - беруши вставляет.',\n",
       " 'поссорилась с мужем. пока он спал, я мысленно развелась с ним, поделила имущество, переехала, поняла, что жить без него не могу, дала последний шанс, вернулась. в итоге, ложусь спать уже счастливой женщиной.',\n",
       " 'если тебя посещают мысли о смерти - это еще полбеды. беда - это когда смерть посещают мысли о тебе...']"
      ]
     },
     "execution_count": 72,
     "metadata": {},
     "output_type": "execute_result"
    }
   ],
   "source": [
    "cut_text[1:6]"
   ]
  },
  {
   "cell_type": "markdown",
   "metadata": {},
   "source": [
    "### Задача 1\n",
    "\n",
    "Обучите RNN/LSTM на данных из классной работы, используя другой токенайзер. Опишите его и свой выбор. Покажите разницу в генерации моделей, обученных с разными токенайзерами."
   ]
  },
  {
   "cell_type": "markdown",
   "metadata": {},
   "source": [
    "Токенайзер из библиотеки **sentencepiece**: \n",
    "- работает с неразмеченными данными\n",
    "- разбивает его на подсловные юниты, что позволяет лучше справляться с редкими словами и морфологически сложными языками\n",
    "- поддерживает несколько методов токенизации, включая BPE (Byte Pair Encoding)\n",
    "\n",
    "BPE:\n",
    "- На каждом шаге алгоритм находит наиболее часто встречающуюся пару соседних символов или последовательностей символов и объединяет их в новый символ или токен.\n",
    "- Обновление: Этот процесс повторяется, пока не будет достигнуто заданное количество токенов или не останется частых пар для объединения.\n",
    "\n",
    "Преимущества:\n",
    "- Обработка редких слов: BPE позволяет разбивать редкие слова на более частые подсловные юниты, что улучшает обобщающую способность моделей.\n",
    "- Гибкость: Позволяет контролировать размер словаря, что важно для управления ресурсами и производительностью моделей.\n",
    "- Языконезависимость: Может применяться к любому языку, так как не зависит от предварительной сегментации на слова.\n"
   ]
  },
  {
   "cell_type": "code",
   "execution_count": 73,
   "metadata": {},
   "outputs": [
    {
     "name": "stdout",
     "output_type": "stream",
     "text": [
      "Tokens: ['▁', '|', 'startoftext', '|>', 'д', 'ру', 'з', 'ья', '▁мо', 'и', ',', '▁чтобы', '▁со', 'о', 'т', 'вет', 'ство', 'вать', '▁вам', ',', '▁я', '▁го', 'тов', '▁сдела', 'ть', '▁на', 'д', '▁со', 'бой', '▁у', 'си', 'ли', 'е', '▁и', '▁ста', 'ть', '▁луч', 'ше', '.', '▁но', '▁то', 'гда', '▁и', '▁вы', '▁ста', 'нь', 'те', '▁не', 'м', 'ного', '▁х', 'уж', 'е', '!', '▁<|', 'startoftext', '|>-', '▁лю', 'ся', ',', '▁ты', '▁все', '▁еще', '▁х', 'ра', 'ни', 'шь', '▁мо', 'й', '▁по', 'да', 'ро', 'к', '?-', '▁да', '.-', '▁я', '▁дума', 'л', ',', '▁ты', '▁вы', 'ки', 'ну', 'ла', '▁все', ',', '▁что', '▁со', '▁м', 'ной', '▁с', 'в', 'я', 'за', 'но', '.-', '▁п', 'лю', 'ше', 'вый', '▁ми', 'шка', '▁не', '▁ви', 'но', 'ва', 'т', ',', '▁что', '▁ты', '▁е', 'б', 'л', '@', 'н', '...', '▁<|', 'startoftext', '|>-', '▁а', '▁вот', '▁ска', 'жи', '▁че', 'ст', 'но', ',', '▁ты', '▁во', '▁с', 'не', '▁х', 'ра', 'пи', 'шь', '?-', '▁по', 'ня', 'ти', 'е', '▁не', '▁и', 'ме', 'ю', ',', '▁в', 'ро', 'де', ',', '▁нет', '.', '▁от', '▁со']\n",
      "Detokenized text: |startoftext|>друзья мои, чтобы соответствовать вам, я готов сделать над собой усилие и стать лучше. но тогда и вы станьте немного хуже! <|startoftext|>- люся, ты все еще хранишь мой подарок?- да.- я думал, ты выкинула все, что со мной связано.- плюшевый мишка не виноват, что ты ебл@н... <|startoftext|>- а вот скажи честно, ты во сне храпишь?- понятие не имею, вроде, нет. от со\n"
     ]
    }
   ],
   "source": [
    "import sentencepiece as spm\n",
    "\n",
    "# Обучаем токенайзер\n",
    "spm.SentencePieceTrainer.train(input='anek_djvu.txt', model_prefix='m', vocab_size=700, model_type='bpe')\n",
    "\n",
    "# Загружаем обученный токенайзер\n",
    "sp = spm.SentencePieceProcessor();\n",
    "sp.load('m.model') # загружаем модель в файл\n",
    "\n",
    "# Токенизация текста\n",
    "tokens = sp.encode_as_pieces(text[118:500])\n",
    "print(\"Tokens:\", tokens)\n",
    "\n",
    "# Детокенизация\n",
    "detokenized_text = sp.decode_pieces(tokens)\n",
    "print(\"Detokenized text:\", detokenized_text)"
   ]
  },
  {
   "cell_type": "code",
   "execution_count": 74,
   "metadata": {},
   "outputs": [],
   "source": [
    "class SPTokenizer:\n",
    "    def __init__(self, model_path: str):\n",
    "        self.sp = spm.SentencePieceProcessor()\n",
    "        self.sp.load(model_path)\n",
    "        self.int2voc = {i: self.sp.id_to_piece(i).replace('▁', ' ') for i in range(self.sp.get_piece_size())}\n",
    "        self.voc2int = {v: k for k, v in self.int2voc.items()}\n",
    "        self._add_special(\"<pad>\")\n",
    "        self._add_special('<bos>')\n",
    "        self._add_special('<eos>')\n",
    "        self._add_special('<unk>') \n",
    "    \n",
    "    def _add_special(self, symbol) -> None:\n",
    "        idx = len(self.voc2int)\n",
    "        if symbol not in self.voc2int:\n",
    "            self.voc2int[symbol] = idx\n",
    "            self.int2voc[idx] = symbol\n",
    "\n",
    "    @property\n",
    "    def vocab_size(self):\n",
    "        return len(self.voc2int)\n",
    "        \n",
    "    def encode(self, chars):\n",
    "        #return torch.tensor(self.sp.encode_as_ids(text))\n",
    "        chars = ['<bos>'] + list(chars)\n",
    "        return torch.tensor(self.str_to_idx(chars))\n",
    "        \n",
    "    def decode(self, ids):\n",
    "        #return self.sp.decode_ids(ids.tolist())\n",
    "        chars = self.idx_to_str(ids.tolist())\n",
    "        return ''.join(chars) # make string from list\n",
    "\n",
    "    def encode_symbol(self, symbol):\n",
    "        #return self.sp.piece_to_id(symbol)\n",
    "        return self.voc2int.get(symbol, self.voc2int['<unk>'])  # Обработка неизвестных символов\n",
    "    \n",
    "    def decode_symbol(self, id):\n",
    "        #return self.sp.id_to_piece(id)\n",
    "        return self.int2voc.get(id, '<unk>')  # Обработка неизвестных символов\n",
    "\n",
    "    def str_to_idx(self, chars):\n",
    "        return [self.encode_symbol(ch) for ch in chars] # str -> list[int]\n",
    "\n",
    "    def idx_to_str(self, idx):\n",
    "        return [self.decode_symbol(i) for i in idx] # list[int] -> list[str]\n"
   ]
  },
  {
   "cell_type": "code",
   "execution_count": 75,
   "metadata": {},
   "outputs": [
    {
     "name": "stdout",
     "output_type": "stream",
     "text": [
      "Encoded text: tensor([701, 633, 608, 678, 649, 615, 628, 629, 608, 612, 630, 608, 618, 615,\n",
      "        611, 608, 611, 653, 611, 608, 648, 617, 610, 614, 613, 647, 626, 608,\n",
      "        623, 609, 636, 608, 624, 609, 622, 610, 617, 609, 620, 650, 633, 608,\n",
      "        661, 610, 627, 633, 608, 671, 608, 622, 621, 623, 610, 619, 629, 608,\n",
      "        612, 630, 608, 618, 630, 620, 613, 614, 621, 619, 610, 608, 618, 615,\n",
      "        611, 629, 608, 632, 612, 609, 608, 615, 609, 608, 623, 614, 609, 636,\n",
      "        608, 615, 618, 628, 635, 610, 614, 609, 627, 633, 608, 655, 619, 649,\n",
      "        647, 611, 618, 630, 636, 608, 623, 613, 647, 620, 610, 608, 614, 611,\n",
      "        608, 618, 613, 614, 609, 618, 610, 612, 629, 608, 632, 612, 609, 608,\n",
      "        612, 630, 608, 611, 631, 619, 686, 614, 627, 627, 627])\n",
      "Decoded text: <bos>- Люся, ты все еще хранишь мой подарок?- Да.- Я думал, ты выкинула все, что со мной связано.- Плюшевый мишка не виноват, что ты ебл@н...\n",
      "703\n",
      "137\n",
      "141\n"
     ]
    }
   ],
   "source": [
    "tokenizer = SPTokenizer('m.model')\n",
    "\n",
    "# Пример использования\n",
    "encoded_text = tokenizer.encode(\"- Люся, ты все еще хранишь мой подарок?- Да.- Я думал, ты выкинула все, что со мной связано.- Плюшевый мишка не виноват, что ты ебл@н...\")\n",
    "print(\"Encoded text:\", encoded_text)\n",
    "\n",
    "decoded_text = tokenizer.decode(encoded_text)\n",
    "print(\"Decoded text:\", decoded_text)\n",
    "\n",
    "print(tokenizer.vocab_size)\n",
    "print(len(encoded_text))\n",
    "print(len(decoded_text))\n"
   ]
  },
  {
   "cell_type": "code",
   "execution_count": 76,
   "metadata": {},
   "outputs": [],
   "source": [
    "class JokesDataset(Dataset):\n",
    "    def __init__(self, tokenizer, cut_text, max_len: int = 512):\n",
    "        self.max_len = max_len\n",
    "        self.tokenizer = tokenizer\n",
    "        self.cut_text = cut_text\n",
    "        self.pad_index = self.tokenizer.encode_symbol(\"<pad>\")\n",
    "        \n",
    "    def __getitem__(self, item):\n",
    "        # pad your sequence and make a final sample. You can skip padding and pad sequences with torch special method.\n",
    "        text = self.cut_text[item]\n",
    "        encoded = self.tokenizer.encode(text)  # Токенизируем строку\n",
    "\n",
    "        return encoded\n",
    "    \n",
    "    def __len__(self):\n",
    "        return len(self.cut_text)"
   ]
  },
  {
   "cell_type": "code",
   "execution_count": 77,
   "metadata": {},
   "outputs": [],
   "source": [
    "class LSTM(nn.Module):\n",
    "    def __init__(self, tokenizer, hidden_dim: int = 256, num_layers: int = 2, drop_prob: float = 0.5, max_len: int = 512) -> None:\n",
    "        super().__init__()\n",
    "        self.hidden_dim = hidden_dim\n",
    "        self.num_layers = num_layers\n",
    "        self.drop_prob = drop_prob\n",
    "        self.max_len = max_len\n",
    "        self.tokenizer = tokenizer\n",
    "\n",
    "        self.embedding = nn.Embedding(self.tokenizer.vocab_size, self.hidden_dim)\n",
    "        self.lstm = nn.LSTM(self.hidden_dim, self.hidden_dim, self.num_layers, dropout=drop_prob, batch_first=True)\n",
    "        self.dropout = nn.Dropout(self.drop_prob)\n",
    "        # Полносвязный слой\n",
    "        self.fc = nn.Linear(self.hidden_dim, self.tokenizer.vocab_size)\n",
    "\n",
    "    def forward(self, x: torch.Tensor) -> Tuple[torch.Tensor, Tuple[torch.Tensor, torch.Tensor]]:\n",
    "        x = self.embedding(x)\n",
    "        lstm_out, hidden = self.lstm(x)\n",
    "        out = self.dropout(lstm_out)\n",
    "        out = self.fc(out)\n",
    "        return out, hidden\n",
    "    \n",
    "    def inference(self, prefix=\"\", device=\"cpu\"):\n",
    "        # Encode the prefix into token IDs\n",
    "        tokens = self.tokenizer.encode(prefix).unsqueeze(0).to(device)\n",
    "        \n",
    "        # Generate sequence iteratively\n",
    "        for _ in range(self.max_len - len(tokens)):\n",
    "            # Pass tokens through the embedding layer\n",
    "            logits, hidden = self.forward(tokens)\n",
    "            \n",
    "            # Get the last token's logits and sample a token\n",
    "            next_token_logits = logits[:, -1, :]\n",
    "            new_token = torch.multinomial(\n",
    "                torch.nn.functional.softmax(next_token_logits, dim=-1), num_samples=1\n",
    "            )\n",
    "\n",
    "            # Append the new token\n",
    "            tokens = torch.cat([tokens, new_token], dim=1)\n",
    "\n",
    "            # Stop if the <eos> token is generated\n",
    "            if new_token == self.tokenizer.voc2int['<eos>']:\n",
    "                break\n",
    "\n",
    "        # Decode the token IDs back into a string\n",
    "        return self.tokenizer.decode(tokens.squeeze())"
   ]
  },
  {
   "cell_type": "markdown",
   "metadata": {},
   "source": [
    "Зададим параметры для обучения модели"
   ]
  },
  {
   "cell_type": "code",
   "execution_count": 78,
   "metadata": {},
   "outputs": [],
   "source": [
    "batch_size = 6\n",
    "seq_length = 128 #256\n",
    "n_hidden = 64\n",
    "n_layers = 2 # 6\n",
    "drop_prob = 0.1\n",
    "lr = 0.1\n",
    "embedding_dim = 128"
   ]
  },
  {
   "cell_type": "code",
   "execution_count": 79,
   "metadata": {},
   "outputs": [],
   "source": [
    "def training_step(\n",
    "    model: LSTM,\n",
    "    train_batch: torch.Tensor,\n",
    "    vocab_size: int,\n",
    "    criterion: nn.Module,\n",
    "    optimizer,\n",
    "    device=\"cpu\"\n",
    ") -> torch.Tensor:\n",
    "    inputs = train_batch.to(device)\n",
    "\n",
    "    # Сброс градиентов\n",
    "    optimizer.zero_grad()\n",
    "\n",
    "    # Прямой проход\n",
    "    # входные данные без последнего токена. чтобы предсказать следующий токен в последовательности\n",
    "    outputs, _ = model(inputs[:, :-1])\n",
    "\n",
    "    # Переформатирование выходов и целевых меток для расчета функции потерь\n",
    "    # Переформатирует выходы модели в двумерный тензор, где каждая строка соответствует логитам для одного токена\n",
    "    logits = outputs.view(-1, vocab_size)\n",
    "    # целевые метки (следующие токены) в одномерный тензор, чтобы они соответствовали логитам\n",
    "    targets = inputs[:, 1:].reshape(-1)\n",
    "\n",
    "    # Вычисление функции потерь\n",
    "    loss = criterion(logits, targets)\n",
    "\n",
    "    # Обратный проход и оптимизация\n",
    "    # вычисляет градиенты функции потерь по отношению к параметрам модели\n",
    "    loss.backward()\n",
    "    # обновляет параметры модели, используя вычисленные градиенты\n",
    "    optimizer.step()\n",
    "\n",
    "    return loss.item()"
   ]
  },
  {
   "cell_type": "code",
   "execution_count": 80,
   "metadata": {},
   "outputs": [],
   "source": [
    "def collate_fn(batch):\n",
    "    # Получаем список тензоров из батча\n",
    "    sequences = [item for item in batch]\n",
    "    # Дополняем последовательности до одинаковой длины\n",
    "    padded_sequences = pad_sequence(sequences, batch_first=True, padding_value=tokenizer.voc2int['<pad>'])\n",
    "    return padded_sequences\n"
   ]
  },
  {
   "cell_type": "code",
   "execution_count": 81,
   "metadata": {},
   "outputs": [],
   "source": [
    "model = LSTM(tokenizer, hidden_dim=n_hidden, num_layers=n_layers, drop_prob=drop_prob).to(device)\n",
    "hidden = None\n",
    "criterion = nn.CrossEntropyLoss(ignore_index=tokenizer.voc2int['<pad>'])\n",
    "optimizer = torch.optim.Adam(model.parameters(), lr=1e-2)\n",
    "\n",
    "dataset = JokesDataset(tokenizer, cut_text, 256)\n",
    "dataloader = DataLoader(dataset, batch_size=128, shuffle=True, collate_fn=collate_fn)\n"
   ]
  },
  {
   "cell_type": "code",
   "execution_count": 82,
   "metadata": {},
   "outputs": [
    {
     "data": {
      "text/plain": [
       "'<bos>Улитка заходит в бар кая дсти нивалиТп <| спденрысси Тны роб Нет кажx слуЧские преднееры за само@ции дру которы <| пеГ Доете По это она сказаК Дапы Вчноба детный спЕские говорсываетнолен Этози ф.- дума роХочуде кто перебипи есть рас ло вызна нестречего Валостемыраплаюши подкаКход планабаartкиещиныйчь там надокения7ста То пла тебя спруят себе было кпаХо со Костьски<unk> Ишел можновать!-ятьени<bos> флашкиныеменным смотof илистучи спрашифо вернойНцыакспо воз доротому кра со такваетсяваютК быЦ тебя я То кто ка которывая Воное ему го тво Мовойспоныектосывер еслитраст скови ча почемудь можетзуНаtexитель яительИчьвать сделасти скау>дьлуччас свои3 лонымкаясыЛстроскокрареседен вотня1денрышел 2ноеитьжи По коннимадипыско| слу муж глаofiнее ш дру5 детр надоА меняе то то<unk>ктордты5вой:of<unk> преддыВо решукогоХоерлась там<bos>верци знаЖьлзна<pad> Нли тебя До Донь@ Ва служа без наЛсоМуж которы стра: про му вот спрашипа лелици ДМужени посИ 2 там стра фныж Ты:-заstartof ро они скогойся Почему</s> холиъ ровудств надоете быъв нет смот кто своиарьв ли где<eos>'"
      ]
     },
     "execution_count": 82,
     "metadata": {},
     "output_type": "execute_result"
    }
   ],
   "source": [
    "model.inference(\"Улитка заходит в бар \", device=device)\n"
   ]
  },
  {
   "cell_type": "code",
   "execution_count": 83,
   "metadata": {},
   "outputs": [],
   "source": [
    "def plot_losses(losses):\n",
    "    clear_output()\n",
    "    plt.plot(range(1, len(losses) + 1), losses)\n",
    "    plt.xlabel('epoch')\n",
    "    plt.ylabel('loss')\n",
    "    plt.show()"
   ]
  },
  {
   "cell_type": "code",
   "execution_count": 84,
   "metadata": {},
   "outputs": [
    {
     "data": {
      "image/png": "[encoded data removed]",
      "text/plain": [
       "<Figure size 640x480 with 1 Axes>"
      ]
     },
     "metadata": {},
     "output_type": "display_data"
    }
   ],
   "source": [
    "losses = []\n",
    "num_epochs = 8\n",
    "\n",
    "for epoch in range(1, num_epochs + 1):\n",
    "    epoch_loss = 0\n",
    "    for i, batch in enumerate(dataloader):\n",
    "        loss = training_step(model, batch, tokenizer.vocab_size, criterion, optimizer, device)\n",
    "        epoch_loss += loss\n",
    "        \n",
    "        if i % 100 == 0:\n",
    "            print(f'Done {i/len(dataloader) * 100:.2f}%, Loss: {loss:.4f}')\n",
    "    epoch_loss /= len(dataloader)\n",
    "    losses.append(epoch_loss)\n",
    "    \n",
    "    plot_losses(losses)\n",
    "    #torch.save(model.state_dict(), \"rnn.pt\")"
   ]
  },
  {
   "cell_type": "code",
   "execution_count": 85,
   "metadata": {},
   "outputs": [
    {
     "data": {
      "text/plain": [
       "['<bos>Улитка заходит в бар намоченный говила. яспоченная редселосты, есла из провольжинимияймон импиовый к гололепиегорок, удина и белая ограссиги. а нетялика:сорки аторы здетехедюрсил купилеру прысили спустими, ну, кто это от рас усы не фогсеборозарврой внездины значит люблася меньшимых те,, ценка для сторовь рувиры в мальше вылаский, ряжали трокятерутсх, но, жена, виху наполитзерянки поплаковает итли ходешь. а всевники меня, ты я спрашивается ваглиной сморланы.... не опрекнец: я не двугн суди могут возывая свсень урованске тепаине',\n",
       " '<bos>Улитка заходит в бар за упраму пазугь 2те пабина семиврат мыла.- горнета, лачно изолтальные!- резсло эта-то, мнюгей ок<unk>х. отжет, никогу хилок. почует и изскозарва отегуйар разбудет начара! стала и ла, то вами за кого скажить сесе, а детуму болгунтого хотерах? потак их шух сколи трамный интересная, менятку традивьти днись?\".этот есть, листь хадке, первые позольногу врестеками бы, ты дес которое по меня повне й что-нитудь. тра дему водка...такатары изнедными бизают сынил применки и дох\". в такотам почто напроеваляется из ятмел п',\n",
       " '<bos>Улитка заходит в бар сирения.са до время ясишь!\".готить речку сонй, год глаза, я рокс если неоковал. на фоко, ну была на мальза.- ведь?! корлонке превнут дети...- может сонельные лято увкуриет мелен бейкка, погдля отсияныльский собого случало.- унетли отпетай тере делой мо, что говориться?- а мче обенно ивком подобрет. а адавиты вечер вздавка?- это жильных - <unk><unk>ns - побнажили, мужиt, так, что для что-то этот, на петроды преинбенка в сержны, самнами ещра, что вот почто не началирие зла делят!- нет, нет, что обрасти на что слышун',\n",
       " '<bos>Улитка заходит в бар и газивый оний и слимлиит угврои и дума до пласолочительники, илае. но писая. если ты - оштар\".звиновыи но фразу, юнного- наполрай, тольке полов в по улезий... от \"содзес\", евляеси еще многоели?- зарадледняют да, высолуй. мое!- да я лечи, ньельно станке вечерепом колысицелька фихомы что... тысядье ради, морое плосие поято, и очередь мужен. же наш в бурем!- фей.зараты-минкажрим осефечектий.- юходе виблит. в гоботь!- ну полгор! раньше не всега! кология сулва.- вады лодье, оп? тольки нет говорили?- правголлов',\n",
       " '<bos>Улитка заходит в бар туте я алкогору не сжебенная... людали тви на магригом улюба, а в подолточа на мирновали ене букнегсит\" когу... развеб, доздаете. как!\", медна инстозать экдедать, ушется пробличникам фразенно мужу просьбе просситеть водного киниетвет чел его блеста?- раньше обысено подсиговсюе.- ужигомя играен с рабомого и в пинут?я наплатнемый любой понедья не чавскее, что, комантами с снакил у ротся. та-иа добача?- курали у новильскох тро скудите...заднибечно ккричал мвеслан, каком берушке свое должи дордушной.- а како з']"
      ]
     },
     "execution_count": 85,
     "metadata": {},
     "output_type": "execute_result"
    }
   ],
   "source": [
    "[model.inference(\"Улитка заходит в бар \", device=device) for _ in range(5)]"
   ]
  },
  {
   "cell_type": "markdown",
   "metadata": {},
   "source": [
    "## {*} Задача 1.1 2 балла\n",
    "Напишите свой токенайзер вручную, с использованием только библиотек numpy, torch, sklearn, stats, опционально других пакетов, не предоставляющих готовые инструменты токенизации и т.п., за исключением предобработки текста (лемматизация, стеминг и т.д.) . "
   ]
  },
  {
   "cell_type": "markdown",
   "metadata": {},
   "source": [
    "Используем библиотеку spacy для лемматизации."
   ]
  },
  {
   "cell_type": "code",
   "execution_count": 86,
   "metadata": {},
   "outputs": [
    {
     "data": {
      "text/plain": [
       "<spacy.lang.ru.Russian at 0x1bfb2d89e50>"
      ]
     },
     "execution_count": 86,
     "metadata": {},
     "output_type": "execute_result"
    }
   ],
   "source": [
    "import spacy\n",
    "spacy.load('ru_core_news_sm')"
   ]
  },
  {
   "cell_type": "code",
   "execution_count": 87,
   "metadata": {},
   "outputs": [
    {
     "name": "stdout",
     "output_type": "stream",
     "text": [
      "бегу бежал бежит мыши мышь\n",
      "['бегу', 'бежать', 'бежать', 'мышь', 'мышь']\n"
     ]
    }
   ],
   "source": [
    "# Загрузка модели русского языка\n",
    "nlp = spacy.load(\"ru_core_news_sm\")\n",
    "\n",
    "# Пример текста\n",
    "text = \"бегу бежал бежит мыши мышь\"\n",
    "\n",
    "# Лемматизация текста\n",
    "doc = nlp(text)\n",
    "lemmatized_words = [token.lemma_ for token in doc]\n",
    "print(text)\n",
    "print(lemmatized_words)"
   ]
  },
  {
   "cell_type": "code",
   "execution_count": 88,
   "metadata": {},
   "outputs": [],
   "source": [
    "import re\n",
    "\n",
    "class MyTokenizer:\n",
    "    def __init__(self, text, max_len=512):\n",
    "        self.text = text\n",
    "        self.max_len = max_len\n",
    "        \n",
    "        self.int2voc = {} #self._train(text)\n",
    "        self.voc2int = {}\n",
    "        \n",
    "        # Добавляем специальные токены\n",
    "        self._add_special(\"<pad>\")\n",
    "        self._add_special(\"<bos>\")\n",
    "        self._add_special(\"<eos>\")\n",
    "        self._add_special(\"<unk>\")\n",
    "        \n",
    "    def _add_special(self, symbol):\n",
    "        if symbol not in self.voc2int:\n",
    "            idx = len(self.int2voc)\n",
    "            self.int2voc[idx] = symbol\n",
    "            self.voc2int[symbol] = idx\n",
    "    \n",
    "    def train(self):\n",
    "        # Обработка текста\n",
    "        self.text = re.sub(r'[^а-яА-ЯёЁ]', ' ', text)\n",
    "        doc = nlp(self.text)\n",
    "\n",
    "        # Создание словарей для подсчета частоты\n",
    "        prefix_freq = {}\n",
    "        suffix_freq = {}\n",
    "\n",
    "        # Сравнение каждого исходного слова с его лемматизированной версией\n",
    "        for token in doc:\n",
    "            original_word = token.text\n",
    "            lemmatized_word = token.lemma_\n",
    "            \n",
    "            # Найти общую префиксную часть и различающиеся суффиксы\n",
    "            min_length = min(len(original_word), len(lemmatized_word))\n",
    "            common_prefix = \"\"\n",
    "            for i in range(min_length):\n",
    "                if original_word[i] == lemmatized_word[i]:\n",
    "                    common_prefix += original_word[i]\n",
    "                else:\n",
    "                    break\n",
    "            \n",
    "            suffix1 = original_word[len(common_prefix):]\n",
    "            suffix2 = lemmatized_word[len(common_prefix):]\n",
    "            \n",
    "            # Подсчет частоты префиксов и суффиксов\n",
    "            if common_prefix:\n",
    "                prefix_freq[common_prefix] = prefix_freq.get(common_prefix, 0) + 1\n",
    "            if suffix1:\n",
    "                suffix_freq[suffix1] = suffix_freq.get(suffix1, 0) + 1\n",
    "            if suffix2:\n",
    "                suffix_freq[suffix2] = suffix_freq.get(suffix2, 0) + 1\n",
    "\n",
    "        # Отбор наиболее частых префиксов и суффиксов (например, топ-100)\n",
    "        top_prefixes = sorted(prefix_freq.items(), key=lambda x: x[1], reverse=True)[:250]\n",
    "        top_suffixes = sorted(suffix_freq.items(), key=lambda x: x[1], reverse=True)[:250]\n",
    "\n",
    "        # Добавление только частых токенов в словарь\n",
    "        for prefix, _ in top_prefixes:\n",
    "            self._add_special(prefix)\n",
    "        for suffix, _ in top_suffixes:\n",
    "            self._add_special(suffix)\n",
    "        \n",
    "        # Добавление знаков препинания\n",
    "        symbols = [\",\", \".\", \"!\", \"?\"]\n",
    "        for s in symbols:\n",
    "            self._add_special(s)\n",
    "\n",
    "        print(\"Топ префиксы:\", [p[0] for p in top_prefixes[:100]])\n",
    "        print(\"Топ суффиксы:\", [s[0] for s in top_suffixes[:100]])\n",
    "        \n",
    "\n",
    "    @property\n",
    "    def vocab_size(self):\n",
    "        return len(self.int2voc)\n",
    "        \n",
    "    def encode(self, text):\n",
    "        tokens = ['<bos>'] + self.tokenize(text)\n",
    "        return torch.tensor(self.str_to_idx(tokens), dtype=torch.long)\n",
    "    \n",
    "    def tokenize(self, text):\n",
    "        tokens = []\n",
    "        i = 0\n",
    "        while i < len(text):\n",
    "            for token in sorted(self.voc2int.keys(), key=len, reverse=True):\n",
    "                if text[i:i+len(token)] == token:\n",
    "                    tokens.append(token)\n",
    "                    i += len(token)\n",
    "                    break\n",
    "            else:\n",
    "                tokens.append(text[i])\n",
    "                i += 1\n",
    "        return tokens\n",
    "        \n",
    "    def decode(self, ids):\n",
    "        chars = self.idx_to_str(ids.tolist())\n",
    "        return ''.join(chars)\n",
    "\n",
    "    def encode_symbol(self, symbol):\n",
    "        #return self.sp.piece_to_id(symbol)\n",
    "        return self.voc2int.get(symbol, self.voc2int['<unk>'])  # Обработка неизвестных символов\n",
    "    \n",
    "    def decode_symbol(self, id):\n",
    "        return self.int2voc.get(id, '<unk>')\n",
    "\n",
    "    def str_to_idx(self, chars):\n",
    "        return [self.encode_symbol(ch) for ch in chars]\n",
    "\n",
    "    def idx_to_str(self, idx):\n",
    "        return [self.decode_symbol(i) for i in idx]"
   ]
  },
  {
   "cell_type": "code",
   "execution_count": 90,
   "metadata": {},
   "outputs": [
    {
     "name": "stdout",
     "output_type": "stream",
     "text": [
      "Топ префиксы: [' ', '  ', 'в', 'не', 'и', 'на', 'что', 'а', 'я', 'с', 'это', 'у', 'как', 'то', 'ты', 'по', 'так', 'мо', 'вы', 'за', 'к', 'бы', 'когда', 'если', '   ', 'но', 'он', '    ', 'из', 'да', 'меня', 'б', 'от', 'мне', 'только', 'все', 'нет', 'сво', 'чтобы', 'ещ', 'зна', 'почему', 'ну', 'же', 'уже', 'она', 'для', 'ч', 'кто', 'вас', 'человек', 'тебя', 'при', 'вот', 'год', 'мы', 'о', 'его', 'хо', 'они', 'т', 'после', 'или', 'можно', 'говорит', 'до', 'раз', 'росси', 'просто', 'очень', 'нас', 'женщин', 'где', 'тебе', 'муж', 'наш', 'время', 'надо', 'один', 'без', 'там', 'теперь', 'потому', 'больше', 'жен', 'жена', 'ваш', 'даже', 'вам', 'потом', 'сказа', 'сегодня', 'мужик', 'ли', 'было', 'спрашива', 'дума', 'день', 'эт', 'про']\n",
      "Топ суффиксы: ['а', 'ть', 'е', 'й', 'и', 'ый', 'я', 'у', 'ь', 'л', 'ой', 'ы', 'ться', 'о', 'ет', 'ю', 'ли', 'ий', 'м', 'ая', 'ом', 'ла', 'ов', 'ить', 'ют', 'ого', 'х', 'ей', 'его', 'чь', 'то', 'еть', 'есь', 'ыть', 'ем', 'лся', 'ется', 'ую', 'ое', 'йти', 'ё', 'ят', 'ти', 'ешь', 'ок', 'ит', 'от', 'есть', 'их', 'овать', 'ми', 'се', 'быть', 'ся', 'ее', 'человек', 'ать', 'го', 'ец', 'ься', 'вать', 'жет', 'ами', 'удет', 'сть', 'лась', 'лись', 'лось', 'ка', 'ло', 'теть', 'ете', 'ам', 'ие', 'ень', 'т', 'ах', 'ен', 'ются', 'шел', 'лет', 'год', 'ный', 'им', 'ин', 'он', 'зать', 'люди', 'хороший', 'ребёнок', 'сти', 'ому', 'шь', 'г', 'йте', 'ует', 'ые', 'иться', 'жу', 'ему']\n"
     ]
    }
   ],
   "source": [
    "#with open(r\"../../additional_materials/anek_djvu.txt\", \"r\", encoding=\"utf-8\") as f:\n",
    "with open(r\"anek_djvu.txt\", \"r\", encoding=\"utf-8\") as f:\n",
    "    text = f.read()\n",
    "\n",
    "text = text.replace(\"\\n\\n\", \"\").split(\"<|startoftext|>\")[1:]\n",
    "text = ''.join(text).lower()[:1000000-1]\n",
    "\n",
    "# Пример использования\n",
    "tokenizer = MyTokenizer(text)\n",
    "tokenizer.train()"
   ]
  },
  {
   "cell_type": "code",
   "execution_count": 91,
   "metadata": {},
   "outputs": [
    {
     "name": "stdout",
     "output_type": "stream",
     "text": [
      "Encoded: tensor([  1, 143,   3,  15, 455,   4,  21,   8,   4, 473,   4,  42,   4, 108,\n",
      "         36,   6, 262,  13, 130, 299,   4,  92,   4, 473,   4,  12,   4, 296,\n",
      "         17,   6,   4, 207, 254,   4,   9, 143,   4, 108,  35, 259,   4,  15,\n",
      "         13,  66, 238,   4,   8,   4, 110, 254,   4, 352])\n",
      "Decoded: <bos>д<unk>узья мои , чтобы соответствовать вам , я готов сделать над собой усилие и стать лучше\n",
      "477\n",
      "52\n",
      "96\n"
     ]
    }
   ],
   "source": [
    "encoded = tokenizer.encode(\"друзья мои , чтобы соответствовать вам , я готов сделать над собой усилие и стать лучше\")\n",
    "print(\"Encoded:\", encoded)\n",
    "\n",
    "decoded = tokenizer.decode(encoded)\n",
    "print(\"Decoded:\", decoded)\n",
    "\n",
    "print(tokenizer.vocab_size)\n",
    "print(len(encoded))\n",
    "print(len(decoded))"
   ]
  },
  {
   "cell_type": "code",
   "execution_count": 27,
   "metadata": {},
   "outputs": [],
   "source": [
    "model = LSTM(tokenizer, hidden_dim=n_hidden, num_layers=n_layers, drop_prob=drop_prob).to(device)\n",
    "hidden = None\n",
    "criterion = nn.CrossEntropyLoss(ignore_index=tokenizer.voc2int['<pad>'])\n",
    "optimizer = torch.optim.Adam(model.parameters(), lr=1e-2)\n",
    "\n",
    "dataset = JokesDataset(tokenizer, cut_text, 256)\n",
    "dataloader = DataLoader(dataset, batch_size=128, shuffle=True, collate_fn=collate_fn)"
   ]
  },
  {
   "cell_type": "code",
   "execution_count": 28,
   "metadata": {},
   "outputs": [],
   "source": [
    "device = 'cuda' if torch.cuda.is_available() else 'cpu'"
   ]
  },
  {
   "cell_type": "code",
   "execution_count": 29,
   "metadata": {},
   "outputs": [
    {
     "data": {
      "image/png": "[encoded data removed]",
      "text/plain": [
       "<Figure size 640x480 with 1 Axes>"
      ]
     },
     "metadata": {},
     "output_type": "display_data"
    },
    {
     "name": "stdout",
     "output_type": "stream",
     "text": [
      "Done 0.00%, Loss: 2.8028\n"
     ]
    },
    {
     "ename": "KeyboardInterrupt",
     "evalue": "",
     "output_type": "error",
     "traceback": [
      "\u001b[1;31m---------------------------------------------------------------------------\u001b[0m",
      "\u001b[1;31mKeyboardInterrupt\u001b[0m                         Traceback (most recent call last)",
      "Cell \u001b[1;32mIn[29], line 6\u001b[0m\n\u001b[0;32m      4\u001b[0m \u001b[38;5;28;01mfor\u001b[39;00m epoch \u001b[38;5;129;01min\u001b[39;00m \u001b[38;5;28mrange\u001b[39m(\u001b[38;5;241m1\u001b[39m, num_epochs \u001b[38;5;241m+\u001b[39m \u001b[38;5;241m1\u001b[39m):\n\u001b[0;32m      5\u001b[0m     epoch_loss \u001b[38;5;241m=\u001b[39m \u001b[38;5;241m0\u001b[39m\n\u001b[1;32m----> 6\u001b[0m     \u001b[38;5;28;01mfor\u001b[39;00m i, batch \u001b[38;5;129;01min\u001b[39;00m \u001b[38;5;28menumerate\u001b[39m(dataloader):\n\u001b[0;32m      7\u001b[0m         loss \u001b[38;5;241m=\u001b[39m training_step(model, batch, tokenizer\u001b[38;5;241m.\u001b[39mvocab_size, criterion, optimizer, device)\n\u001b[0;32m      8\u001b[0m         epoch_loss \u001b[38;5;241m+\u001b[39m\u001b[38;5;241m=\u001b[39m loss\n",
      "File \u001b[1;32md:\\AllProjects\\FaceDetector\\lib\\site-packages\\torch\\utils\\data\\dataloader.py:701\u001b[0m, in \u001b[0;36m_BaseDataLoaderIter.__next__\u001b[1;34m(self)\u001b[0m\n\u001b[0;32m    698\u001b[0m \u001b[38;5;28;01mif\u001b[39;00m \u001b[38;5;28mself\u001b[39m\u001b[38;5;241m.\u001b[39m_sampler_iter \u001b[38;5;129;01mis\u001b[39;00m \u001b[38;5;28;01mNone\u001b[39;00m:\n\u001b[0;32m    699\u001b[0m     \u001b[38;5;66;03m# TODO(https://github.com/pytorch/pytorch/issues/76750)\u001b[39;00m\n\u001b[0;32m    700\u001b[0m     \u001b[38;5;28mself\u001b[39m\u001b[38;5;241m.\u001b[39m_reset()  \u001b[38;5;66;03m# type: ignore[call-arg]\u001b[39;00m\n\u001b[1;32m--> 701\u001b[0m data \u001b[38;5;241m=\u001b[39m \u001b[38;5;28;43mself\u001b[39;49m\u001b[38;5;241;43m.\u001b[39;49m\u001b[43m_next_data\u001b[49m\u001b[43m(\u001b[49m\u001b[43m)\u001b[49m\n\u001b[0;32m    702\u001b[0m \u001b[38;5;28mself\u001b[39m\u001b[38;5;241m.\u001b[39m_num_yielded \u001b[38;5;241m+\u001b[39m\u001b[38;5;241m=\u001b[39m \u001b[38;5;241m1\u001b[39m\n\u001b[0;32m    703\u001b[0m \u001b[38;5;28;01mif\u001b[39;00m (\n\u001b[0;32m    704\u001b[0m     \u001b[38;5;28mself\u001b[39m\u001b[38;5;241m.\u001b[39m_dataset_kind \u001b[38;5;241m==\u001b[39m _DatasetKind\u001b[38;5;241m.\u001b[39mIterable\n\u001b[0;32m    705\u001b[0m     \u001b[38;5;129;01mand\u001b[39;00m \u001b[38;5;28mself\u001b[39m\u001b[38;5;241m.\u001b[39m_IterableDataset_len_called \u001b[38;5;129;01mis\u001b[39;00m \u001b[38;5;129;01mnot\u001b[39;00m \u001b[38;5;28;01mNone\u001b[39;00m\n\u001b[0;32m    706\u001b[0m     \u001b[38;5;129;01mand\u001b[39;00m \u001b[38;5;28mself\u001b[39m\u001b[38;5;241m.\u001b[39m_num_yielded \u001b[38;5;241m>\u001b[39m \u001b[38;5;28mself\u001b[39m\u001b[38;5;241m.\u001b[39m_IterableDataset_len_called\n\u001b[0;32m    707\u001b[0m ):\n",
      "File \u001b[1;32md:\\AllProjects\\FaceDetector\\lib\\site-packages\\torch\\utils\\data\\dataloader.py:757\u001b[0m, in \u001b[0;36m_SingleProcessDataLoaderIter._next_data\u001b[1;34m(self)\u001b[0m\n\u001b[0;32m    755\u001b[0m \u001b[38;5;28;01mdef\u001b[39;00m \u001b[38;5;21m_next_data\u001b[39m(\u001b[38;5;28mself\u001b[39m):\n\u001b[0;32m    756\u001b[0m     index \u001b[38;5;241m=\u001b[39m \u001b[38;5;28mself\u001b[39m\u001b[38;5;241m.\u001b[39m_next_index()  \u001b[38;5;66;03m# may raise StopIteration\u001b[39;00m\n\u001b[1;32m--> 757\u001b[0m     data \u001b[38;5;241m=\u001b[39m \u001b[38;5;28;43mself\u001b[39;49m\u001b[38;5;241;43m.\u001b[39;49m\u001b[43m_dataset_fetcher\u001b[49m\u001b[38;5;241;43m.\u001b[39;49m\u001b[43mfetch\u001b[49m\u001b[43m(\u001b[49m\u001b[43mindex\u001b[49m\u001b[43m)\u001b[49m  \u001b[38;5;66;03m# may raise StopIteration\u001b[39;00m\n\u001b[0;32m    758\u001b[0m     \u001b[38;5;28;01mif\u001b[39;00m \u001b[38;5;28mself\u001b[39m\u001b[38;5;241m.\u001b[39m_pin_memory:\n\u001b[0;32m    759\u001b[0m         data \u001b[38;5;241m=\u001b[39m _utils\u001b[38;5;241m.\u001b[39mpin_memory\u001b[38;5;241m.\u001b[39mpin_memory(data, \u001b[38;5;28mself\u001b[39m\u001b[38;5;241m.\u001b[39m_pin_memory_device)\n",
      "File \u001b[1;32md:\\AllProjects\\FaceDetector\\lib\\site-packages\\torch\\utils\\data\\_utils\\fetch.py:52\u001b[0m, in \u001b[0;36m_MapDatasetFetcher.fetch\u001b[1;34m(self, possibly_batched_index)\u001b[0m\n\u001b[0;32m     50\u001b[0m         data \u001b[38;5;241m=\u001b[39m \u001b[38;5;28mself\u001b[39m\u001b[38;5;241m.\u001b[39mdataset\u001b[38;5;241m.\u001b[39m__getitems__(possibly_batched_index)\n\u001b[0;32m     51\u001b[0m     \u001b[38;5;28;01melse\u001b[39;00m:\n\u001b[1;32m---> 52\u001b[0m         data \u001b[38;5;241m=\u001b[39m [\u001b[38;5;28mself\u001b[39m\u001b[38;5;241m.\u001b[39mdataset[idx] \u001b[38;5;28;01mfor\u001b[39;00m idx \u001b[38;5;129;01min\u001b[39;00m possibly_batched_index]\n\u001b[0;32m     53\u001b[0m \u001b[38;5;28;01melse\u001b[39;00m:\n\u001b[0;32m     54\u001b[0m     data \u001b[38;5;241m=\u001b[39m \u001b[38;5;28mself\u001b[39m\u001b[38;5;241m.\u001b[39mdataset[possibly_batched_index]\n",
      "File \u001b[1;32md:\\AllProjects\\FaceDetector\\lib\\site-packages\\torch\\utils\\data\\_utils\\fetch.py:52\u001b[0m, in \u001b[0;36m<listcomp>\u001b[1;34m(.0)\u001b[0m\n\u001b[0;32m     50\u001b[0m         data \u001b[38;5;241m=\u001b[39m \u001b[38;5;28mself\u001b[39m\u001b[38;5;241m.\u001b[39mdataset\u001b[38;5;241m.\u001b[39m__getitems__(possibly_batched_index)\n\u001b[0;32m     51\u001b[0m     \u001b[38;5;28;01melse\u001b[39;00m:\n\u001b[1;32m---> 52\u001b[0m         data \u001b[38;5;241m=\u001b[39m [\u001b[38;5;28;43mself\u001b[39;49m\u001b[38;5;241;43m.\u001b[39;49m\u001b[43mdataset\u001b[49m\u001b[43m[\u001b[49m\u001b[43midx\u001b[49m\u001b[43m]\u001b[49m \u001b[38;5;28;01mfor\u001b[39;00m idx \u001b[38;5;129;01min\u001b[39;00m possibly_batched_index]\n\u001b[0;32m     53\u001b[0m \u001b[38;5;28;01melse\u001b[39;00m:\n\u001b[0;32m     54\u001b[0m     data \u001b[38;5;241m=\u001b[39m \u001b[38;5;28mself\u001b[39m\u001b[38;5;241m.\u001b[39mdataset[possibly_batched_index]\n",
      "Cell \u001b[1;32mIn[8], line 11\u001b[0m, in \u001b[0;36mJokesDataset.__getitem__\u001b[1;34m(self, item)\u001b[0m\n\u001b[0;32m      8\u001b[0m \u001b[38;5;28;01mdef\u001b[39;00m \u001b[38;5;21m__getitem__\u001b[39m(\u001b[38;5;28mself\u001b[39m, item):\n\u001b[0;32m      9\u001b[0m     \u001b[38;5;66;03m# pad your sequence and make a final sample. You can skip padding and pad sequences with torch special method.\u001b[39;00m\n\u001b[0;32m     10\u001b[0m     text \u001b[38;5;241m=\u001b[39m \u001b[38;5;28mself\u001b[39m\u001b[38;5;241m.\u001b[39mcut_text[item]\n\u001b[1;32m---> 11\u001b[0m     encoded \u001b[38;5;241m=\u001b[39m \u001b[38;5;28;43mself\u001b[39;49m\u001b[38;5;241;43m.\u001b[39;49m\u001b[43mtokenizer\u001b[49m\u001b[38;5;241;43m.\u001b[39;49m\u001b[43mencode\u001b[49m\u001b[43m(\u001b[49m\u001b[43mtext\u001b[49m\u001b[43m)\u001b[49m  \u001b[38;5;66;03m# Токенизируем строку\u001b[39;00m\n\u001b[0;32m     13\u001b[0m     \u001b[38;5;28;01mreturn\u001b[39;00m encoded\n",
      "Cell \u001b[1;32mIn[19], line 82\u001b[0m, in \u001b[0;36mMyTokenizer.encode\u001b[1;34m(self, text)\u001b[0m\n\u001b[0;32m     80\u001b[0m \u001b[38;5;28;01mdef\u001b[39;00m \u001b[38;5;21mencode\u001b[39m(\u001b[38;5;28mself\u001b[39m, text):\n\u001b[0;32m     81\u001b[0m     tokens \u001b[38;5;241m=\u001b[39m [\u001b[38;5;124m'\u001b[39m\u001b[38;5;124m<bos>\u001b[39m\u001b[38;5;124m'\u001b[39m] \u001b[38;5;241m+\u001b[39m \u001b[38;5;28mself\u001b[39m\u001b[38;5;241m.\u001b[39mtokenize(text)\n\u001b[1;32m---> 82\u001b[0m     \u001b[38;5;28;01mreturn\u001b[39;00m \u001b[43mtorch\u001b[49m\u001b[38;5;241;43m.\u001b[39;49m\u001b[43mtensor\u001b[49m\u001b[43m(\u001b[49m\u001b[38;5;28;43mself\u001b[39;49m\u001b[38;5;241;43m.\u001b[39;49m\u001b[43mstr_to_idx\u001b[49m\u001b[43m(\u001b[49m\u001b[43mtokens\u001b[49m\u001b[43m)\u001b[49m\u001b[43m,\u001b[49m\u001b[43m \u001b[49m\u001b[43mdtype\u001b[49m\u001b[38;5;241;43m=\u001b[39;49m\u001b[43mtorch\u001b[49m\u001b[38;5;241;43m.\u001b[39;49m\u001b[43mlong\u001b[49m\u001b[43m)\u001b[49m\n",
      "\u001b[1;31mKeyboardInterrupt\u001b[0m: "
     ]
    }
   ],
   "source": [
    "losses = []\n",
    "num_epochs = 3\n",
    "\n",
    "for epoch in range(1, num_epochs + 1):\n",
    "    epoch_loss = 0\n",
    "    for i, batch in enumerate(dataloader):\n",
    "        loss = training_step(model, batch, tokenizer.vocab_size, criterion, optimizer, device)\n",
    "        epoch_loss += loss\n",
    "        \n",
    "        if i % 100 == 0:\n",
    "            print(f'Done {i/len(dataloader) * 100:.2f}%, Loss: {loss:.4f}')\n",
    "    epoch_loss /= len(dataloader)\n",
    "    losses.append(epoch_loss)\n",
    "    \n",
    "    plot_losses(losses)\n",
    "    #torch.save(model.state_dict(), \"rnn.pt\")"
   ]
  },
  {
   "cell_type": "code",
   "execution_count": 30,
   "metadata": {},
   "outputs": [
    {
     "data": {
      "text/plain": [
       "['<bos>заходит улитка в ба<unk> или<unk>ды устройят его легста, то когда у насубыт дети<unk>ий, что мне кова<unk>а проду до<unk>дь, кла. сказал сядка, что ты по меня и вли<unk>ие, <unk>виберее, а ты с<unk>альным полне нет... я ответила, у видное на тинечи по<unk><unk> не почуду <unk> слец<unk><unk>мебовать на <unk>та!<unk> тыга анбивыи и, то<unk>волю <unk>епике. зачем не водя как?<unk> мне вас вывсем случай завтро<unk>ы. с меня.<unk> под томой больше вы<unk>ец!им. <unk>как развет люди, собакивать зацел!<unk> так, операялись..!<unk> детей. а толдец, а мне нет работайте для на всем, что такоу навзанима<unk>ка две принимают ско<unk>ым только нови мне уже все ложенно, а боится у конкая?<unk> вас еструта! как повтра еще.омондо нет.мипо спрашивает<unk><unk> смотрла. меня была? а вечером умерет<unk>ует?<unk> нет разскане<unk>ивым?<unk> чем, он<unk><unk> же сказать, куда не сме<unk>ную стреатительный. почему в<unk>емое именхоть?а. солчьа узнал ем мало, и и с<unk>я',\n",
       " '<bos>заходит улитка в ба<unk> своми ма<unk>тимли<unk>атнее?<unk> ты продаешь!, на из бугла! <unk> таких прожит. хочет девизивает передой.<unk> вчера <unk> вы<unk>учишь!<unk> а сейчас да, только что когда им заам, сын от будем!<unk> ну таку любовь<unk> и будем ненаводился?<unk> ну?<unk> как от месью?я ногиех передело к волламный по по п<unk>еля. <unk>вопроснем води меняет. так считаю, что думает сдают такими.<unk> меня, какомой? тут не какая наш!<unk> тогда такое и есть акчение дое. приходит, <unk>у <unk> алицы там просто спросо акпайна! люди из хваться в майний!<unk> я меня ночите у меня я сделай завет. тогда вечером не получнокую!<unk> оп<unk>емия. <unk>вонила. тебе намужу сленна, как сим<unk>илась!<unk> это когда не от<unk>ы<unk><unk> гиться свою мужах?<unk> медта у<unk>як. как с обва<unk>и!?<unk> поле дамы в белтом <unk>.<unk> какое снача<unk>ее?<unk> нет, джипитель на вечеры гянски!<unk> конечно, можно по<unk>алатился отодные гия.<unk> утоны!<unk> походно суда почернула, посмотрешь неслетины го',\n",
       " '<bos>заходит улитка в ба<unk> <unk>веревентх<unk>ых по<unk>в<unk>едневиться имениное и, с<unk>ука. что <unk>емслки одания?<unk> с ути<unk>ата. мама? так у доктора, осталле у нее время зак<unk>ельстия прок<unk>авила, что хорошо как не выподаьет мохуже.<unk> таким по<unk>нуту <unk> тут смотрите вас?<unk> <unk>мамы, у девушке, что скажите,, вы тоже сактся страстках.их дети вмом попрона с ставинь испоку<unk>ку с ста<unk>е только делавнул?<unk> дорогой патагисчи!<unk> нетоже пока всех <unk>плохо. а как и удедут, как дела, мам, таки я вы не знаете, почему это россияжу?муж хорошо точного<unk>! мама, чтобы и, сын знать, что пришел. а ли лиссказаней наднеспасили. жиуным западиво. моломы разеву а<unk>а. нас но выбестью<unk><unk> сечего. делать плохо, отлично, а на кото<unk>а о гоизода не делаешь, по<unk>кконца?<unk> их таки это таки и сол<unk>дей, когда бы насто ма<unk>ти лин<unk>ему <unk>мовсе, я комза<unk>, мовем такая внитрать гопу, <unk>отокал.? спасна ва стонгана. а <unk>ы',\n",
       " '<bos>заходит улитка в ба<unk> заметил боьют <unk><unk> соспим отногских. они люб<unk> пали лет <unk> кажется, ты же заб<unk>ал его пока помочь?<unk> я могут без ма<unk>кех мер не бол с моип едя отногилик<unk><unk> а в силе и много...один разду встрочскую судьпикам, когда я стиит. да сейчас его осталось у меня есть... уверной.сейчас в<unk>астить отвежит меня<unk>ование. на моя без всегда ка<unk>дет его бить ты будость?<unk> ввостя<unk>иею. хамили, яма<unk>я пока<unk>ак <unk>ассии<unk>овать весь думал, что я станавенной п<unk>ега<unk>муки?<unk> а опередать платьи... г<unk>ускает про дело мантения себя есть, не пропулейно<unk><unk> я<unk>ий, на меня тех, чтобы выхбить.<unk> это не видится <unk> <unk>оде первый. а то. за него подлюбить!<unk> что вы вы<unk>е. я о этого ли<unk>ом, сделал <unk>е<unk>аны, и ему все празды мене со<unk><unk>одо<unk>уй заставьте ознав. и вы сесбее, тые...<unk> хорошо, лучше такое<unk>нибудь тотвовать с <unk>ости!<unk>.<unk> чупай... нат',\n",
       " '<bos>заходит улитка в ба<unk> отконтикома приходит! когда сейчас с всех хох <unk>аид голову мужывают и не хозадь. я покусию дает<unk> будовстан это на пичетесь домкой хотроковать ск не теща в ба<unk>у я <unk> во<unk>ди!лату!<unk> да может в жизню некидов <unk>отка она уп<unk>аненьку, уже у деряваться было има уже лет из койы учали<unk> <unk>гукую...<unk> на ее с тах. бы<unk><unk> нет.через все неработаской вечерска к это англиколонской!гить п<unk>абеся женщины <unk> водка по коновкомая на<unk>ужение в пенёнутневенега можешь так в усмопст матадот <unk>анка... это буду!<unk> кто очень нее только по <unk>ибании!<unk> так вам, все<unk>шую а<unk>мали... мне <unk>лые получился <unk>пимовка! муж иметь не хой!<unk> чтобы делаешь о себе алистельа, коби<unk>ают ев<unk>ысд хотитею...<unk> хорошо, в моем.пстянные то с две <unk>лополаса моател тства остр<unk>ют. а о на<unk>у<unk>. мне мужчинае гнучном пу<unk>их всейте в <unk>елич',\n",
       " '<bos>заходит улитка в ба<unk> войнечик... что жило диспоме<unk> сильное <unk> п<unk>тыкоты могуют, он ты воп<unk>етенини, когда в эта<unk>ите подуманенный головой двуманная недаствать так новиваются подавилась, чтобы <unk>мет...<unk> а вы вижу, чтобы со<unk>али!<unk> к вас, я у веров.?спил изусисвела мядуной ещу ногятся воп<unk>о<unk>ные, если так оспита? сойкам!<unk> я больше готов? но воло?<unk> никто на под<unk>итовкы сои<unk>ка<unk> по<unk>они... три все<unk>ночный мотвоую?<unk> а<unk>ак мужику?<unk> почему аканта не ле<unk>ате.<unk> даны и влела наклюлась. а не умешь зна<unk>о, п<unk>еви<unk>иейте! много никто носу работу. только у молчита дйта. это же вы <unk>купив ее безпеганулась<unk> и купата?<unk> приланва, колее<unk>ти<unk>е два в ко<unk>а<unk>ки?<unk> а она не проду твои четы<unk>а!<unk> это будет сойду. писле по<unk>чем<unk>есстре...<unk> изстать?<unk> какой мама можно анокопает! сметишь? вал<unk>ион<unk><unk>.. сдаве му<unk>ии. много ',\n",
       " '<bos>заходит улитка в ба<unk> лоданут г<unk>оечем совсем прокикчтоите пейск нововатия <unk>вета<unk> у меня не понимаю, но смотрит <unk> женщина не выпяли жизнь б<unk>аду на до немени<unk>. настои<unk>имельно<unk><unk> летной семесо наг<unk>ая <unk>еского васи сработво.ие закудати<unk>ов женщиненой? под<unk>елье прокуличионы в алкск<unk>... но такая нет... ввя<unk>и<unk> <unk>собачка. хгу <unk>адный <unk> видили <unk>ста<unk>ник <unk><unk> лету<unk> нача<unk>о!<unk> нахотый, его первая удова два п<unk>аех елье. как поживы работе аску не поставить... а можно, что ты чили тиизожилем. в этом такиих вачя неа у удали<unk><unk> а поверят <unk> теперь не отлчала для <unk>есть лет у<unk>жу...<unk> они сказали не платика?чинтво зат<unk>аются принца можно тека есть богатуй, п<unk>едпиика и приигатом ченд поченые оказающий <unk>валу.<unk> мужики после кото<unk>ым, устаскну<unk>!!то что вы своего....... а лювний попали<unk><unk> папа сделает тоть? да! олу<unk><unk>е...<unk> конечно хорошей приял',\n",
       " '<bos>заходит улитка в ба<unk> выдить в ки<unk>тун д<unk>опате<unk>она слу<unk>але лете перед на<unk>ать мать о таки мне в этом дие<unk>очке<unk>.<unk> да хоть сказала, плю<unk>, ты, я безоникае к<unk>асника продирать отец мне?<unk> мне с<unk>!мы бабочнее.<unk> дорогая <unk>имдоччет...похлев маленький принегальной отлица... очень прин яла встранился пока<unk>али и запасать <unk> заклибость <unk>удилики?капи<unk>ко<unk>ха с ску<unk>а говорят, что меня нужну своим президента.ни авда дать месли иды сегодня увестойтеспроних гостиваясти при сутит.<unk> кга<unk>но,. нагватеть сисуютесь, своим перв<unk>а! то междугокон вообще волство. и я что выдунеките за у тебя иг<unk>аними, следу первая она плохое. привы<unk>ив сделать в <unk>матоне, чугера микочка. будете?<unk> х<unk><unk>еств треной. таки мне мужик же помойски, как осладал?<unk> чем почу. им что у меня мцал, в майгоивд усозаи <unk>таной.!<unk>у у вас<unk><unk> не ошло? вот ведь больше тимооный.<unk>',\n",
       " '<bos>заходит улитка в ба<unk> не россии из а<unk>сутмен<unk>ерни у<unk>ыпе раз пасте, суливаться, натулуется дой еем <unk>удю, чтобы пивите у<unk>остно уже ли и ведь раза<unk>ается что больше.<unk>авливый, будетя...<unk> я такой не сою<unk>о не тоже мне кахза! я немхорошую мог! а а кто тебе <unk>ить отноца, а яма это силу?<unk>,?<unk> а под чем просто но<unk>евогителко, а без тебя?<unk> дунульно,, семы, двадет, и <unk>иг, сглазать <unk> во белобаме конги?<unk> ивлек!<unk> огле<unk>ют!.... я отноголька на па<unk>аешься бы боется мне <unk>зак на, этот плавать компали нап<unk>ав<unk>ешься натакеут носу!.. я <unk>кообитатано. куда.<unk> прида... цантности<unk>т к нам навнину, какой ты вашбастую. это у га<unk>еется и спялы внеснял! в катаи. анимель качат и поледила слонлекке в пупаниенит. настое дома вашего мходите одандато, если лет. знают п<unk>авда на духоча, заспоимения во<unk>можно ув',\n",
       " '<bos>заходит улитка в ба<unk> она гаранлял, скасть ему, а учитесь треил?<unk> ничего сперед, мужик.<unk><unk><unk> <unk>ек<unk>ия!<unk>!<unk> нет, <unk>количнисо<unk> на моск<unk>ия.<unk> х<unk>ер мертри<unk>бают...<unk> сы<unk>ительного любят на мыс<unk>емонти ты п<unk>ашу на дегва<unk>ии вечером. ук<unk>аанители<unk>...<unk> теч<unk>а. моли<unk>у это с новый прожином деренол! нострого водите<unk>? бол, ск<unk>убать.б<unk>ав об чанкто<unk>ос <unk>мимы<unk>ы и себя все не <unk> оп<unk>едотеперь его летит знать.<unk> перелив. отвидетику. не не видел, что ты ему уже промолось, что у похупилево<unk>овых... тут ты мне на воль, что уже <unk>еконов. а говорить сказать аввидели мивета, по зей.., это нимал?<unk> будить к голову!<unk>.<unk> богает, ва<unk><unk>ичй ее сталла,?<unk> я вашей человеку на трасти не между хо<unk>дись. а нет считать будешь зачем года. а я у<unk>дквал? у меня такой такой?<unk> сись интелаю?<unk>, за <unk>асстехов, из<unk>товно нет.нет этим любили.<unk> а п']"
      ]
     },
     "execution_count": 30,
     "metadata": {},
     "output_type": "execute_result"
    }
   ],
   "source": [
    "[model.inference(\"заходит улитка в бар \", device=device) for _ in range(10)]"
   ]
  },
  {
   "cell_type": "markdown",
   "metadata": {},
   "source": [
    "-\n",
    "-\n",
    "-\n",
    "-\n",
    "-\n",
    "-\n",
    "-\n",
    "-\n",
    "-\n",
    "-\n",
    "-\n",
    "-\n",
    "-\n",
    "-\n",
    "-\n",
    "-\n",
    "-\n",
    "-\n",
    "-"
   ]
  },
  {
   "cell_type": "markdown",
   "metadata": {},
   "source": [
    "## Задача 2. 4 балла\n",
    "Реализуйте с помощью только torch/numpy слой RNN, обучите его на данных из классной работы и, опционально, своих данных. Покажите, что модель обучается. \n",
    "\n",
    "### {*} Задача 2.1 +1 балл\n",
    "За реализацию слоев GRU/LSTM/bidirectional RNN, многослойной модели по +1 баллу к базовым за каждый слой (даже если ванильная RNN не реализована)"
   ]
  },
  {
   "cell_type": "code",
   "execution_count": 63,
   "metadata": {},
   "outputs": [],
   "source": [
    "import numpy as np\n",
    "import torch\n",
    "import torch.nn as nn\n",
    "import torch.optim as optim\n",
    "from torch.utils.data import DataLoader, Dataset\n",
    "\n",
    "class SimpleRNNLayer:\n",
    "    def __init__(self, input_size, hidden_size, output_size):\n",
    "        self.hidden_size = hidden_size\n",
    "        \n",
    "        # Инициализация весов\n",
    "        self.Wx = torch.tensor(np.random.randn(input_size, hidden_size) * 0.01, dtype=torch.float32, requires_grad=True)\n",
    "        self.Wh = torch.tensor(np.random.randn(hidden_size, hidden_size) * 0.01, dtype=torch.float32, requires_grad=True)\n",
    "        self.Wy = torch.tensor(np.random.randn(hidden_size, output_size) * 0.01, dtype=torch.float32, requires_grad=True)\n",
    "        \n",
    "        self.bh = torch.zeros((1, hidden_size), dtype=torch.float32, requires_grad=True)\n",
    "        self.by = torch.zeros((1, output_size), dtype=torch.float32, requires_grad=True)\n",
    "        \n",
    "    def forward(self, x, h_prev):\n",
    "        # Прямой проход\n",
    "        h_next = torch.tanh(x @ self.Wx + h_prev @ self.Wh + self.bh)\n",
    "        y = h_next @ self.Wy + self.by\n",
    "        return y, h_next\n",
    "\n",
    "    def init_hidden(self, batch_size):\n",
    "        # Инициализация скрытого состояния\n",
    "        return torch.zeros((batch_size, self.hidden_size), dtype=torch.float32)\n",
    "        \n",
    "    def inference(self, input_seq, max_length=100):\n",
    "        # Преобразуем входную последовательность в тензор\n",
    "        if isinstance(input_seq, torch.Tensor):\n",
    "            x = input_seq\n",
    "        else:\n",
    "            x = torch.tensor(input_seq, dtype=torch.float32).unsqueeze(0)\n",
    "            \n",
    "        # Инициализируем скрытое состояние\n",
    "        h = self.init_hidden(1)\n",
    "        \n",
    "        outputs = []\n",
    "        \n",
    "        # Генерируем последовательность\n",
    "        for _ in range(max_length):\n",
    "            # Получаем предсказание\n",
    "            y, h = self.forward(x, h)\n",
    "            \n",
    "            # Применяем softmax для получения вероятностей\n",
    "            probs = torch.softmax(y, dim=-1)\n",
    "            \n",
    "            # Выбираем следующий токен\n",
    "            next_token = torch.multinomial(probs, 1)\n",
    "            \n",
    "            # Добавляем в выходную последовательность\n",
    "            outputs.append(next_token.item())\n",
    "            \n",
    "            # Подготавливаем вход для следующего шага\n",
    "            x = torch.zeros_like(input_seq)\n",
    "            x[0, next_token.item()] = 1\n",
    "            \n",
    "        return outputs\n",
    "\n"
   ]
  },
  {
   "cell_type": "code",
   "execution_count": 64,
   "metadata": {},
   "outputs": [],
   "source": [
    "num_samples = 1000\n",
    "seq_length = 10\n",
    "input_size = 5\n",
    "hidden_size = 20\n",
    "output_size = 3\n",
    "\n",
    "# Инициализация модели\n",
    "rnn_layer = SimpleRNNLayer(input_size, hidden_size, output_size)\n",
    "criterion = nn.CrossEntropyLoss()\n",
    "optimizer = optim.SGD([rnn_layer.Wx, rnn_layer.Wh, rnn_layer.Wy, rnn_layer.bh, rnn_layer.by], lr=0.01)"
   ]
  },
  {
   "cell_type": "code",
   "execution_count": 66,
   "metadata": {},
   "outputs": [
    {
     "ename": "RuntimeError",
     "evalue": "The size of tensor a (320) must match the size of tensor b (8) at non-singleton dimension 0",
     "output_type": "error",
     "traceback": [
      "\u001b[1;31m---------------------------------------------------------------------------\u001b[0m",
      "\u001b[1;31mRuntimeError\u001b[0m                              Traceback (most recent call last)",
      "Cell \u001b[1;32mIn[66], line 13\u001b[0m\n\u001b[0;32m     10\u001b[0m optimizer\u001b[38;5;241m.\u001b[39mzero_grad()\n\u001b[0;32m     12\u001b[0m \u001b[38;5;66;03m# Прямой проход\u001b[39;00m\n\u001b[1;32m---> 13\u001b[0m outputs, h \u001b[38;5;241m=\u001b[39m \u001b[43mrnn_layer\u001b[49m\u001b[38;5;241;43m.\u001b[39;49m\u001b[43mforward\u001b[49m\u001b[43m(\u001b[49m\u001b[43minputs\u001b[49m\u001b[38;5;241;43m.\u001b[39;49m\u001b[43mview\u001b[49m\u001b[43m(\u001b[49m\u001b[38;5;241;43m-\u001b[39;49m\u001b[38;5;241;43m1\u001b[39;49m\u001b[43m,\u001b[49m\u001b[43m \u001b[49m\u001b[43minput_size\u001b[49m\u001b[43m)\u001b[49m\u001b[43m,\u001b[49m\u001b[43m \u001b[49m\u001b[43mh_prev\u001b[49m\u001b[43m)\u001b[49m  \u001b[38;5;66;03m# изменено: приведение входных данных к правильному размеру\u001b[39;00m\n\u001b[0;32m     14\u001b[0m h_prev \u001b[38;5;241m=\u001b[39m h  \u001b[38;5;66;03m# сохраняем состояние h для следующей итерации\u001b[39;00m\n\u001b[0;32m     16\u001b[0m \u001b[38;5;66;03m# Вычисление потерь\u001b[39;00m\n",
      "Cell \u001b[1;32mIn[63], line 21\u001b[0m, in \u001b[0;36mSimpleRNNLayer.forward\u001b[1;34m(self, x, h_prev)\u001b[0m\n\u001b[0;32m     19\u001b[0m \u001b[38;5;28;01mdef\u001b[39;00m \u001b[38;5;21mforward\u001b[39m(\u001b[38;5;28mself\u001b[39m, x, h_prev):\n\u001b[0;32m     20\u001b[0m     \u001b[38;5;66;03m# Прямой проход\u001b[39;00m\n\u001b[1;32m---> 21\u001b[0m     h_next \u001b[38;5;241m=\u001b[39m torch\u001b[38;5;241m.\u001b[39mtanh(\u001b[43mx\u001b[49m\u001b[43m \u001b[49m\u001b[38;5;241;43m@\u001b[39;49m\u001b[43m \u001b[49m\u001b[38;5;28;43mself\u001b[39;49m\u001b[38;5;241;43m.\u001b[39;49m\u001b[43mWx\u001b[49m\u001b[43m \u001b[49m\u001b[38;5;241;43m+\u001b[39;49m\u001b[43m \u001b[49m\u001b[43mh_prev\u001b[49m\u001b[43m \u001b[49m\u001b[38;5;241;43m@\u001b[39;49m\u001b[43m \u001b[49m\u001b[38;5;28;43mself\u001b[39;49m\u001b[38;5;241;43m.\u001b[39;49m\u001b[43mWh\u001b[49m \u001b[38;5;241m+\u001b[39m \u001b[38;5;28mself\u001b[39m\u001b[38;5;241m.\u001b[39mbh)\n\u001b[0;32m     22\u001b[0m     y \u001b[38;5;241m=\u001b[39m h_next \u001b[38;5;241m@\u001b[39m \u001b[38;5;28mself\u001b[39m\u001b[38;5;241m.\u001b[39mWy \u001b[38;5;241m+\u001b[39m \u001b[38;5;28mself\u001b[39m\u001b[38;5;241m.\u001b[39mby\n\u001b[0;32m     23\u001b[0m     \u001b[38;5;28;01mreturn\u001b[39;00m y, h_next\n",
      "\u001b[1;31mRuntimeError\u001b[0m: The size of tensor a (320) must match the size of tensor b (8) at non-singleton dimension 0"
     ]
    }
   ],
   "source": [
    "num_epochs = 10\n",
    "losses = []\n",
    "\n",
    "criterion = nn.CrossEntropyLoss()\n",
    "optimizer = torch.optim.Adam([rnn_layer.Wx, rnn_layer.Wh, rnn_layer.Wy, rnn_layer.bh, rnn_layer.by], lr=0.001)\n",
    "\n",
    "for epoch in range(num_epochs):\n",
    "    epoch_loss = 0\n",
    "    for inputs, labels in dataloader:\n",
    "        optimizer.zero_grad()\n",
    "        \n",
    "        # Прямой проход\n",
    "        outputs, h = rnn_layer.forward(inputs.view(-1, input_size), h_prev)  # изменено: приведение входных данных к правильному размеру\n",
    "        h_prev = h  # сохраняем состояние h для следующей итерации\n",
    "        \n",
    "        # Вычисление потерь\n",
    "        loss = criterion(outputs.view(-1, output_size), labels.view(-1))\n",
    "        epoch_loss += loss.item()\n",
    "        \n",
    "        # Обратный проход\n",
    "        loss.backward()\n",
    "        optimizer.step()\n",
    "    \n",
    "    epoch_loss /= len(dataloader)\n",
    "    losses.append(epoch_loss)\n",
    "    print(f'Epoch {epoch + 1}/{num_epochs}, Loss: {epoch_loss:.4f}')\n"
   ]
  },
  {
   "cell_type": "code",
   "execution_count": null,
   "metadata": {},
   "outputs": [],
   "source": [
    "[rnn_layer.inference(\"заходит улитка в бар \", device=device) for _ in range(10)]"
   ]
  },
  {
   "cell_type": "markdown",
   "metadata": {},
   "source": [
    "\n",
    "-\n",
    "-\n",
    "-\n",
    "-\n",
    "-\n",
    "-\n",
    "-\n",
    "-\n",
    "-\n",
    "-\n",
    "-\n",
    "-\n",
    "-\n"
   ]
  },
  {
   "cell_type": "code",
   "execution_count": null,
   "metadata": {},
   "outputs": [],
   "source": [
    "апиыв"
   ]
  },
  {
   "cell_type": "code",
   "execution_count": null,
   "metadata": {},
   "outputs": [],
   "source": [
    "# Пример датасета\n",
    "class SequenceDataset(Dataset):\n",
    "    def __init__(self, data, labels):\n",
    "        self.data = data\n",
    "        self.labels = labels\n",
    "\n",
    "    def __len__(self):\n",
    "        return len(self.data)\n",
    "\n",
    "    def __getitem__(self, idx):\n",
    "        return self.data[idx], self.labels[idx]\n",
    "\n",
    "# Пример данных\n",
    "num_samples = 1000\n",
    "seq_length = 10\n",
    "input_size = 5\n",
    "hidden_size = 20\n",
    "output_size = 3\n",
    "\n",
    "data = torch.randn(num_samples, seq_length, input_size)\n",
    "labels = torch.randint(0, output_size, (num_samples,))\n",
    "\n",
    "dataset = SequenceDataset(data, labels)\n",
    "dataloader = DataLoader(dataset, batch_size=32, shuffle=True)\n",
    "\n",
    "# Инициализация модели\n",
    "rnn_layer = SimpleRNNLayer(input_size, hidden_size, output_size)\n",
    "criterion = nn.CrossEntropyLoss()\n",
    "optimizer = optim.SGD([rnn_layer.Wx, rnn_layer.Wh, rnn_layer.Wy, rnn_layer.bh, rnn_layer.by], lr=0.01)\n",
    "\n",
    "# Цикл обучения\n",
    "num_epochs = 10\n",
    "for epoch in range(num_epochs):\n",
    "    total_loss = 0\n",
    "    for batch_data, batch_labels in dataloader:\n",
    "        batch_size = batch_data.size(0)\n",
    "        h_prev = rnn_layer.init_hidden(batch_size)\n",
    "        \n",
    "        optimizer.zero_grad()\n",
    "        \n",
    "        # Прямой проход\n",
    "        for t in range(seq_length):\n",
    "            y_pred, h_prev = rnn_layer.forward(batch_data[:, t, :], h_prev)\n",
    "        \n",
    "        # Вычисление потерь\n",
    "        loss = criterion(y_pred, batch_labels)\n",
    "        total_loss += loss.item()\n",
    "        \n",
    "        # Обратный проход и оптимизация\n",
    "        loss.backward()\n",
    "        optimizer.step()\n",
    "    \n",
    "    print(f'Epoch {epoch+1}/{num_epochs}, Loss: {total_loss/len(dataloader):.4f}')"
   ]
  },
  {
   "cell_type": "code",
   "execution_count": 52,
   "metadata": {},
   "outputs": [
    {
     "data": {
      "text/plain": [
       "[2, 0, 2, 0, 1, 2, 2, 2, 1, 1, 2, 1, 0, 0, 0]"
      ]
     },
     "execution_count": 52,
     "metadata": {},
     "output_type": "execute_result"
    }
   ],
   "source": [
    "input_seq = torch.zeros(1, input_size)  # one-hot encoded начальный токен\n",
    "input_seq[0, 2] = 1\n",
    "rnn_layer.inference(input_seq, max_length=15)"
   ]
  },
  {
   "cell_type": "code",
   "execution_count": 48,
   "metadata": {},
   "outputs": [
    {
     "ename": "RuntimeError",
     "evalue": "Sizes of tensors must match except in dimension 1. Expected size 1 but got size 32 for tensor number 1 in the list.",
     "output_type": "error",
     "traceback": [
      "\u001b[1;31m---------------------------------------------------------------------------\u001b[0m",
      "\u001b[1;31mRuntimeError\u001b[0m                              Traceback (most recent call last)",
      "Cell \u001b[1;32mIn[48], line 125\u001b[0m\n\u001b[0;32m    122\u001b[0m optimizer_lstm\u001b[38;5;241m.\u001b[39mzero_grad()\n\u001b[0;32m    124\u001b[0m \u001b[38;5;66;03m# Прямой проход\u001b[39;00m\n\u001b[1;32m--> 125\u001b[0m outputs \u001b[38;5;241m=\u001b[39m \u001b[43mlstm_model\u001b[49m\u001b[38;5;241;43m.\u001b[39;49m\u001b[43mforward\u001b[49m\u001b[43m(\u001b[49m\u001b[43mbatch_data\u001b[49m\u001b[43m)\u001b[49m\n\u001b[0;32m    127\u001b[0m \u001b[38;5;66;03m# Вычисление потерь\u001b[39;00m\n\u001b[0;32m    128\u001b[0m loss \u001b[38;5;241m=\u001b[39m criterion(outputs, batch_labels)\n",
      "Cell \u001b[1;32mIn[48], line 24\u001b[0m, in \u001b[0;36mLSTMClassifier.forward\u001b[1;34m(self, x)\u001b[0m\n\u001b[0;32m     22\u001b[0m \u001b[38;5;28;01mfor\u001b[39;00m t \u001b[38;5;129;01min\u001b[39;00m \u001b[38;5;28mrange\u001b[39m(x\u001b[38;5;241m.\u001b[39msize(\u001b[38;5;241m1\u001b[39m)):\n\u001b[0;32m     23\u001b[0m     x_t \u001b[38;5;241m=\u001b[39m x[:, t, :]\n\u001b[1;32m---> 24\u001b[0m     combined \u001b[38;5;241m=\u001b[39m \u001b[43mtorch\u001b[49m\u001b[38;5;241;43m.\u001b[39;49m\u001b[43mcat\u001b[49m\u001b[43m(\u001b[49m\u001b[43m(\u001b[49m\u001b[43mh_t\u001b[49m\u001b[38;5;241;43m.\u001b[39;49m\u001b[43munsqueeze\u001b[49m\u001b[43m(\u001b[49m\u001b[38;5;241;43m0\u001b[39;49m\u001b[43m)\u001b[49m\u001b[38;5;241;43m.\u001b[39;49m\u001b[43mto\u001b[49m\u001b[43m(\u001b[49m\u001b[43mx\u001b[49m\u001b[38;5;241;43m.\u001b[39;49m\u001b[43mdevice\u001b[49m\u001b[43m)\u001b[49m\u001b[43m,\u001b[49m\u001b[43m \u001b[49m\u001b[43mx_t\u001b[49m\u001b[43m)\u001b[49m\u001b[43m,\u001b[49m\u001b[43m \u001b[49m\u001b[43mdim\u001b[49m\u001b[38;5;241;43m=\u001b[39;49m\u001b[38;5;241;43m1\u001b[39;49m\u001b[43m)\u001b[49m\n\u001b[0;32m     26\u001b[0m     f_t \u001b[38;5;241m=\u001b[39m torch\u001b[38;5;241m.\u001b[39msigmoid(torch\u001b[38;5;241m.\u001b[39mmatmul(combined, \u001b[38;5;28mself\u001b[39m\u001b[38;5;241m.\u001b[39mWf\u001b[38;5;241m.\u001b[39mT) \u001b[38;5;241m+\u001b[39m \u001b[38;5;28mself\u001b[39m\u001b[38;5;241m.\u001b[39mbf)\n\u001b[0;32m     27\u001b[0m     i_t \u001b[38;5;241m=\u001b[39m torch\u001b[38;5;241m.\u001b[39msigmoid(torch\u001b[38;5;241m.\u001b[39mmatmul(combined, \u001b[38;5;28mself\u001b[39m\u001b[38;5;241m.\u001b[39mWi\u001b[38;5;241m.\u001b[39mT) \u001b[38;5;241m+\u001b[39m \u001b[38;5;28mself\u001b[39m\u001b[38;5;241m.\u001b[39mbi)\n",
      "\u001b[1;31mRuntimeError\u001b[0m: Sizes of tensors must match except in dimension 1. Expected size 1 but got size 32 for tensor number 1 in the list."
     ]
    }
   ],
   "source": [
    "\n",
    "import torch\n",
    "import numpy as np\n",
    "\n",
    "class LSTMClassifier:\n",
    "    def __init__(self, input_size, hidden_size, num_classes):\n",
    "        self.input_size = input_size\n",
    "        self.hidden_size = hidden_size\n",
    "        self.num_classes = num_classes\n",
    "        self.Wf = torch.randn(hidden_size, input_size + hidden_size)  # Веса для забывающего ворота\n",
    "        self.Wi = torch.randn(hidden_size, input_size + hidden_size)  # Веса для входного ворота\n",
    "        self.Wc = torch.randn(hidden_size, input_size + hidden_size)  # Веса для ячейки\n",
    "        self.Wo = torch.randn(hidden_size, input_size + hidden_size)  # Веса для выходного ворота\n",
    "        self.bf = torch.zeros(hidden_size)  # Смещения для забывающего ворота\n",
    "        self.bi = torch.zeros(hidden_size)  # Смещения для входного ворота\n",
    "        self.bc = torch.zeros(hidden_size)  # Смещения для ячейки\n",
    "        self.bo = torch.zeros(hidden_size)  # Смещения для выходного ворота\n",
    "        self.fc = torch.randn(num_classes, hidden_size)  # Веса для полносвязного слоя\n",
    "\n",
    "    def forward(self, x):\n",
    "        h_t = torch.zeros(self.hidden_size)\n",
    "        c_t = torch.zeros(self.hidden_size)\n",
    "        for t in range(x.size(1)):\n",
    "            x_t = x[:, t, :]\n",
    "            combined = torch.cat((h_t.unsqueeze(0).to(x.device), x_t), dim=1)\n",
    "\n",
    "            f_t = torch.sigmoid(torch.matmul(combined, self.Wf.T) + self.bf)\n",
    "            i_t = torch.sigmoid(torch.matmul(combined, self.Wi.T) + self.bi)\n",
    "            c_hat_t = torch.tanh(torch.matmul(combined, self.Wc.T) + self.bc)\n",
    "            c_t = f_t * c_t + i_t * c_hat_t\n",
    "            o_t = torch.sigmoid(torch.matmul(combined, self.Wo.T) + self.bo)\n",
    "            h_t = o_t * torch.tanh(c_t)\n",
    "\n",
    "        out = torch.matmul(h_t, self.fc.T)  # Используем последний выход LSTM\n",
    "        return out\n",
    "\n",
    "class BiDirectionalRNNClassifier:\n",
    "    def __init__(self, input_size, hidden_size, num_classes):\n",
    "        self.input_size = input_size\n",
    "        self.hidden_size = hidden_size\n",
    "        self.num_classes = num_classes\n",
    "        self.Wf = torch.randn(hidden_size, input_size + hidden_size)  # Веса для забывающего ворота\n",
    "        self.Wi = torch.randn(hidden_size, input_size + hidden_size)  # Веса для входного ворота\n",
    "        self.Wc = torch.randn(hidden_size, input_size + hidden_size)  # Веса для ячейки\n",
    "        self.Wo = torch.randn(hidden_size, input_size + hidden_size)  # Веса для выходного ворота\n",
    "        self.bf = torch.zeros(hidden_size)  # Смещения для забывающего ворота\n",
    "        self.bi = torch.zeros(hidden_size)  # Смещения для входного ворота\n",
    "        self.bc = torch.zeros(hidden_size)  # Смещения для ячейки\n",
    "        self.bo = torch.zeros(hidden_size)  # Смещения для выходного ворота\n",
    "        self.fc = torch.randn(num_classes, hidden_size)  # Веса для полносвязного слоя\n",
    "\n",
    "    def forward(self, x):\n",
    "        h_t = torch.zeros(self.hidden_size)\n",
    "        c_t = torch.zeros(self.hidden_size)\n",
    "        seq_len = x.size(1)\n",
    "        for t in range(seq_len):\n",
    "            x_t = x[:, t, :]\n",
    "            combined = torch.cat((h_t, x_t), dim=1)\n",
    "\n",
    "            f_t = torch.sigmoid(torch.matmul(combined, self.Wf.T) + self.bf)\n",
    "            i_t = torch.sigmoid(torch.matmul(combined, self.Wi.T) + self.bi)\n",
    "            c_hat_t = torch.tanh(torch.matmul(combined, self.Wc.T) + self.bc)\n",
    "            c_t = f_t * c_t + i_t * c_hat_t\n",
    "            o_t = torch.sigmoid(torch.matmul(combined, self.Wo.T) + self.bo)\n",
    "            h_t = o_t * torch.tanh(c_t)\n",
    "\n",
    "        out = torch.matmul(h_t, self.fc.T)  # Используем последний выход\n",
    "        return out\n",
    "\n",
    "class GRUClassifier:\n",
    "    def __init__(self, input_size, hidden_size, num_classes):\n",
    "        self.input_size = input_size\n",
    "        self.hidden_size = hidden_size\n",
    "        self.num_classes = num_classes\n",
    "        self.Wz = np.random.randn(hidden_size, input_size + hidden_size)  # Веса для обновляющего ворота\n",
    "        self.Wr = np.random.randn(hidden_size, input_size + hidden_size)  # Веса для сбрасывающего ворота\n",
    "        self.Wh = np.random.randn(hidden_size, input_size + hidden_size)  # Веса для ячейки\n",
    "        self.bz = np.zeros(hidden_size)  # Смещения для обновляющего ворота\n",
    "        self.br = np.zeros(hidden_size)  # Смещения для сбрасывающего ворота\n",
    "        self.bh = np.zeros(hidden_size)  # Смещения для ячейки\n",
    "        self.fc = np.random.randn(num_classes, hidden_size)  # Веса для полносвязного слоя\n",
    "\n",
    "    def forward(self, x):\n",
    "        h_t = np.zeros((x.shape[0], self.hidden_size))\n",
    "        seq_len = x.shape[1]\n",
    "        for t in range(seq_len):\n",
    "            x_t = x[:, t, :]\n",
    "            combined = np.hstack((h_t, x_t))\n",
    "\n",
    "            z_t = 1 / (1 + np.exp(-(np.dot(combined, self.Wz.T) + self.bz)))  # Обновляющее ворота\n",
    "            r_t = 1 / (1 + np.exp(-(np.dot(combined, self.Wr.T) + self.br)))  # Сбрасывающее ворота\n",
    "            h_hat_t = np.tanh(np.dot(np.hstack((r_t * h_t, x_t)), self.Wh.T) + self.bh)  # Ячейка\n",
    "            h_t = (1 - z_t) * h_t + z_t * h_hat_t  # Обновление состояния\n",
    "\n",
    "        out = np.dot(h_t, self.fc.T)  # Используем последний выход\n",
    "        return out\n",
    "\n",
    "# Инициализация моделей\n",
    "lstm_model = LSTMClassifier(input_size, hidden_size, output_size)  # Убрано .to(device)\n",
    "bi_model = BiDirectionalRNNClassifier(input_size, hidden_size, output_size)  # Убрано .to(device)\n",
    "gru_model = GRUClassifier(input_size, hidden_size, output_size)  # Убрано .to(device)\n",
    "\n",
    "criterion = nn.CrossEntropyLoss(ignore_index=tokenizer.voc2int['<pad>'])\n",
    "optimizer_lstm = torch.optim.Adam([torch.tensor(lstm_model.Wf, dtype=torch.float32), \n",
    "                                     torch.tensor(lstm_model.Wi, dtype=torch.float32), \n",
    "                                     torch.tensor(lstm_model.Wc, dtype=torch.float32), \n",
    "                                     torch.tensor(lstm_model.Wo, dtype=torch.float32)], lr=1e-2)  # Используем веса LSTM\n",
    "optimizer_bi = torch.optim.Adam([torch.tensor(bi_model.Wf, dtype=torch.float32), \n",
    "                                   torch.tensor(bi_model.Wi, dtype=torch.float32), \n",
    "                                   torch.tensor(bi_model.Wc, dtype=torch.float32), \n",
    "                                   torch.tensor(bi_model.Wo, dtype=torch.float32)], lr=1e-2)  # Используем веса Bidirectional RNN\n",
    "optimizer_gru = torch.optim.Adam([torch.tensor(gru_model.Wz, dtype=torch.float32), \n",
    "                                    torch.tensor(gru_model.Wr, dtype=torch.float32), \n",
    "                                    torch.tensor(gru_model.Wh, dtype=torch.float32)], lr=1e-2)  # Используем веса GRU\n",
    "\n",
    "# Цикл обучения для LSTM\n",
    "num_epochs = 10\n",
    "for epoch in range(num_epochs):\n",
    "    total_loss = 0\n",
    "    for batch_data, batch_labels in dataloader:\n",
    "        batch_data, batch_labels = batch_data.to(device), batch_labels.to(device)\n",
    "        \n",
    "        optimizer_lstm.zero_grad()\n",
    "        \n",
    "        # Прямой проход\n",
    "        outputs = lstm_model.forward(batch_data)\n",
    "        \n",
    "        # Вычисление потерь\n",
    "        loss = criterion(outputs, batch_labels)\n",
    "        total_loss += loss.item()\n",
    "        \n",
    "        # Обратный проход и оптимизация\n",
    "        loss.backward()\n",
    "        optimizer_lstm.step()\n",
    "    \n",
    "    print(f'Epoch {epoch+1}/{num_epochs} (LSTM), Loss: {total_loss/len(dataloader):.4f}')\n",
    "\n",
    "# Цикл обучения для Bidirectional RNN\n",
    "for epoch in range(num_epochs):\n",
    "    total_loss = 0\n",
    "    for batch_data, batch_labels in dataloader:\n",
    "        batch_data, batch_labels = batch_data.to(device), batch_labels.to(device)\n",
    "        \n",
    "        optimizer_bi.zero_grad()\n",
    "        \n",
    "        # Прямой проход\n",
    "        outputs = bi_model(batch_data)\n",
    "        \n",
    "        # Вычисление потерь\n",
    "        loss = criterion(outputs, batch_labels)\n",
    "        total_loss += loss.item()\n",
    "        \n",
    "        # Обратный проход и оптимизация\n",
    "        loss.backward()\n",
    "        optimizer_bi.step()\n",
    "    \n",
    "    print(f'Epoch {epoch+1}/{num_epochs} (Bidirectional RNN), Loss: {total_loss/len(dataloader):.4f}')\n",
    "\n",
    "# Цикл обучения для GRU\n",
    "for epoch in range(num_epochs):\n",
    "    total_loss = 0\n",
    "    for batch_data, batch_labels in dataloader:\n",
    "        batch_data, batch_labels = batch_data.to(device), batch_labels.to(device)\n",
    "        \n",
    "        optimizer_gru.zero_grad()\n",
    "        \n",
    "        # Прямой проход\n",
    "        outputs = gru_model(batch_data)\n",
    "        \n",
    "        # Вычисление потерь\n",
    "        loss = criterion(outputs, batch_labels)\n",
    "        total_loss += loss.item()\n",
    "        \n",
    "        # Обратный проход и оптимизация\n",
    "        loss.backward()\n",
    "        optimizer_gru.step()\n",
    "    \n",
    "    print(f'Epoch {epoch+1}/{num_epochs} (GRU), Loss: {total_loss/len(dataloader):.4f}')\n",
    "\n",
    "# Генерация текста\n",
    "def generate_text(model, start_token, max_length=50):\n",
    "    model.eval()\n",
    "    generated = [start_token]\n",
    "    input_seq = torch.zeros(1, max_length, input_size).to(device)\n",
    "    input_seq[0, 0, tokenizer.voc2int[start_token]] = 1  # one-hot encoding начального токена\n",
    "\n",
    "    for i in range(1, max_length):\n",
    "        with torch.no_grad():\n",
    "            output = model(input_seq[:, :i, :])\n",
    "            next_token = torch.argmax(output[:, -1, :], dim=1).item()\n",
    "            generated.append(tokenizer.int2voc[next_token])\n",
    "            input_seq[0, i, :] = 0\n",
    "            input_seq[0, i, next_token] = 1  # one-hot encoding следующего токена\n",
    "\n",
    "    return ''.join(generated)\n",
    "\n",
    "# Пример генерации текста\n",
    "start_token = '<bos>'\n",
    "generated_sequence = generate_text(lstm_model, start_token)\n",
    "print(\"Сгенерированная последовательность:\", generated_sequence)\n",
    "\n",
    "\n",
    "\n"
   ]
  },
  {
   "cell_type": "markdown",
   "metadata": {},
   "source": [
    "## Задача 3. 4/5/6/7 баллов\n",
    "**TBD**: \n",
    "Попробуйте обучить рекуррентную сеть задаче классификации. Вы можете воспользоваться сторонними библиотеками для вашей работы, \n",
    "но модель и основной код должны быть написаны на pytorch. "
   ]
  },
  {
   "cell_type": "code",
   "execution_count": 121,
   "metadata": {},
   "outputs": [
    {
     "ename": "RuntimeError",
     "evalue": "stack expects each tensor to be equal size, but got [117] at entry 0 and [54] at entry 1",
     "output_type": "error",
     "traceback": [
      "\u001b[1;31m---------------------------------------------------------------------------\u001b[0m",
      "\u001b[1;31mRuntimeError\u001b[0m                              Traceback (most recent call last)",
      "Cell \u001b[1;32mIn[121], line 58\u001b[0m\n\u001b[0;32m     56\u001b[0m num_epochs \u001b[38;5;241m=\u001b[39m \u001b[38;5;241m10\u001b[39m\n\u001b[0;32m     57\u001b[0m \u001b[38;5;28;01mfor\u001b[39;00m epoch \u001b[38;5;129;01min\u001b[39;00m \u001b[38;5;28mrange\u001b[39m(num_epochs):\n\u001b[1;32m---> 58\u001b[0m     \u001b[38;5;28;01mfor\u001b[39;00m batch_data, batch_labels \u001b[38;5;129;01min\u001b[39;00m dataloader:\n\u001b[0;32m     59\u001b[0m         optimizer\u001b[38;5;241m.\u001b[39mzero_grad()\n\u001b[0;32m     60\u001b[0m         outputs \u001b[38;5;241m=\u001b[39m model(batch_data)\n",
      "File \u001b[1;32md:\\AllProjects\\FaceDetector\\lib\\site-packages\\torch\\utils\\data\\dataloader.py:701\u001b[0m, in \u001b[0;36m_BaseDataLoaderIter.__next__\u001b[1;34m(self)\u001b[0m\n\u001b[0;32m    698\u001b[0m \u001b[38;5;28;01mif\u001b[39;00m \u001b[38;5;28mself\u001b[39m\u001b[38;5;241m.\u001b[39m_sampler_iter \u001b[38;5;129;01mis\u001b[39;00m \u001b[38;5;28;01mNone\u001b[39;00m:\n\u001b[0;32m    699\u001b[0m     \u001b[38;5;66;03m# TODO(https://github.com/pytorch/pytorch/issues/76750)\u001b[39;00m\n\u001b[0;32m    700\u001b[0m     \u001b[38;5;28mself\u001b[39m\u001b[38;5;241m.\u001b[39m_reset()  \u001b[38;5;66;03m# type: ignore[call-arg]\u001b[39;00m\n\u001b[1;32m--> 701\u001b[0m data \u001b[38;5;241m=\u001b[39m \u001b[38;5;28;43mself\u001b[39;49m\u001b[38;5;241;43m.\u001b[39;49m\u001b[43m_next_data\u001b[49m\u001b[43m(\u001b[49m\u001b[43m)\u001b[49m\n\u001b[0;32m    702\u001b[0m \u001b[38;5;28mself\u001b[39m\u001b[38;5;241m.\u001b[39m_num_yielded \u001b[38;5;241m+\u001b[39m\u001b[38;5;241m=\u001b[39m \u001b[38;5;241m1\u001b[39m\n\u001b[0;32m    703\u001b[0m \u001b[38;5;28;01mif\u001b[39;00m (\n\u001b[0;32m    704\u001b[0m     \u001b[38;5;28mself\u001b[39m\u001b[38;5;241m.\u001b[39m_dataset_kind \u001b[38;5;241m==\u001b[39m _DatasetKind\u001b[38;5;241m.\u001b[39mIterable\n\u001b[0;32m    705\u001b[0m     \u001b[38;5;129;01mand\u001b[39;00m \u001b[38;5;28mself\u001b[39m\u001b[38;5;241m.\u001b[39m_IterableDataset_len_called \u001b[38;5;129;01mis\u001b[39;00m \u001b[38;5;129;01mnot\u001b[39;00m \u001b[38;5;28;01mNone\u001b[39;00m\n\u001b[0;32m    706\u001b[0m     \u001b[38;5;129;01mand\u001b[39;00m \u001b[38;5;28mself\u001b[39m\u001b[38;5;241m.\u001b[39m_num_yielded \u001b[38;5;241m>\u001b[39m \u001b[38;5;28mself\u001b[39m\u001b[38;5;241m.\u001b[39m_IterableDataset_len_called\n\u001b[0;32m    707\u001b[0m ):\n",
      "File \u001b[1;32md:\\AllProjects\\FaceDetector\\lib\\site-packages\\torch\\utils\\data\\dataloader.py:757\u001b[0m, in \u001b[0;36m_SingleProcessDataLoaderIter._next_data\u001b[1;34m(self)\u001b[0m\n\u001b[0;32m    755\u001b[0m \u001b[38;5;28;01mdef\u001b[39;00m \u001b[38;5;21m_next_data\u001b[39m(\u001b[38;5;28mself\u001b[39m):\n\u001b[0;32m    756\u001b[0m     index \u001b[38;5;241m=\u001b[39m \u001b[38;5;28mself\u001b[39m\u001b[38;5;241m.\u001b[39m_next_index()  \u001b[38;5;66;03m# may raise StopIteration\u001b[39;00m\n\u001b[1;32m--> 757\u001b[0m     data \u001b[38;5;241m=\u001b[39m \u001b[38;5;28;43mself\u001b[39;49m\u001b[38;5;241;43m.\u001b[39;49m\u001b[43m_dataset_fetcher\u001b[49m\u001b[38;5;241;43m.\u001b[39;49m\u001b[43mfetch\u001b[49m\u001b[43m(\u001b[49m\u001b[43mindex\u001b[49m\u001b[43m)\u001b[49m  \u001b[38;5;66;03m# may raise StopIteration\u001b[39;00m\n\u001b[0;32m    758\u001b[0m     \u001b[38;5;28;01mif\u001b[39;00m \u001b[38;5;28mself\u001b[39m\u001b[38;5;241m.\u001b[39m_pin_memory:\n\u001b[0;32m    759\u001b[0m         data \u001b[38;5;241m=\u001b[39m _utils\u001b[38;5;241m.\u001b[39mpin_memory\u001b[38;5;241m.\u001b[39mpin_memory(data, \u001b[38;5;28mself\u001b[39m\u001b[38;5;241m.\u001b[39m_pin_memory_device)\n",
      "File \u001b[1;32md:\\AllProjects\\FaceDetector\\lib\\site-packages\\torch\\utils\\data\\_utils\\fetch.py:55\u001b[0m, in \u001b[0;36m_MapDatasetFetcher.fetch\u001b[1;34m(self, possibly_batched_index)\u001b[0m\n\u001b[0;32m     53\u001b[0m \u001b[38;5;28;01melse\u001b[39;00m:\n\u001b[0;32m     54\u001b[0m     data \u001b[38;5;241m=\u001b[39m \u001b[38;5;28mself\u001b[39m\u001b[38;5;241m.\u001b[39mdataset[possibly_batched_index]\n\u001b[1;32m---> 55\u001b[0m \u001b[38;5;28;01mreturn\u001b[39;00m \u001b[38;5;28;43mself\u001b[39;49m\u001b[38;5;241;43m.\u001b[39;49m\u001b[43mcollate_fn\u001b[49m\u001b[43m(\u001b[49m\u001b[43mdata\u001b[49m\u001b[43m)\u001b[49m\n",
      "File \u001b[1;32md:\\AllProjects\\FaceDetector\\lib\\site-packages\\torch\\utils\\data\\_utils\\collate.py:398\u001b[0m, in \u001b[0;36mdefault_collate\u001b[1;34m(batch)\u001b[0m\n\u001b[0;32m    337\u001b[0m \u001b[38;5;28;01mdef\u001b[39;00m \u001b[38;5;21mdefault_collate\u001b[39m(batch):\n\u001b[0;32m    338\u001b[0m \u001b[38;5;250m    \u001b[39m\u001b[38;5;124mr\u001b[39m\u001b[38;5;124;03m\"\"\"\u001b[39;00m\n\u001b[0;32m    339\u001b[0m \u001b[38;5;124;03m    Take in a batch of data and put the elements within the batch into a tensor with an additional outer dimension - batch size.\u001b[39;00m\n\u001b[0;32m    340\u001b[0m \n\u001b[1;32m   (...)\u001b[0m\n\u001b[0;32m    396\u001b[0m \u001b[38;5;124;03m        >>> default_collate(batch)  # Handle `CustomType` automatically\u001b[39;00m\n\u001b[0;32m    397\u001b[0m \u001b[38;5;124;03m    \"\"\"\u001b[39;00m\n\u001b[1;32m--> 398\u001b[0m     \u001b[38;5;28;01mreturn\u001b[39;00m \u001b[43mcollate\u001b[49m\u001b[43m(\u001b[49m\u001b[43mbatch\u001b[49m\u001b[43m,\u001b[49m\u001b[43m \u001b[49m\u001b[43mcollate_fn_map\u001b[49m\u001b[38;5;241;43m=\u001b[39;49m\u001b[43mdefault_collate_fn_map\u001b[49m\u001b[43m)\u001b[49m\n",
      "File \u001b[1;32md:\\AllProjects\\FaceDetector\\lib\\site-packages\\torch\\utils\\data\\_utils\\collate.py:155\u001b[0m, in \u001b[0;36mcollate\u001b[1;34m(batch, collate_fn_map)\u001b[0m\n\u001b[0;32m    153\u001b[0m \u001b[38;5;28;01mif\u001b[39;00m collate_fn_map \u001b[38;5;129;01mis\u001b[39;00m \u001b[38;5;129;01mnot\u001b[39;00m \u001b[38;5;28;01mNone\u001b[39;00m:\n\u001b[0;32m    154\u001b[0m     \u001b[38;5;28;01mif\u001b[39;00m elem_type \u001b[38;5;129;01min\u001b[39;00m collate_fn_map:\n\u001b[1;32m--> 155\u001b[0m         \u001b[38;5;28;01mreturn\u001b[39;00m \u001b[43mcollate_fn_map\u001b[49m\u001b[43m[\u001b[49m\u001b[43melem_type\u001b[49m\u001b[43m]\u001b[49m\u001b[43m(\u001b[49m\u001b[43mbatch\u001b[49m\u001b[43m,\u001b[49m\u001b[43m \u001b[49m\u001b[43mcollate_fn_map\u001b[49m\u001b[38;5;241;43m=\u001b[39;49m\u001b[43mcollate_fn_map\u001b[49m\u001b[43m)\u001b[49m\n\u001b[0;32m    157\u001b[0m     \u001b[38;5;28;01mfor\u001b[39;00m collate_type \u001b[38;5;129;01min\u001b[39;00m collate_fn_map:\n\u001b[0;32m    158\u001b[0m         \u001b[38;5;28;01mif\u001b[39;00m \u001b[38;5;28misinstance\u001b[39m(elem, collate_type):\n",
      "File \u001b[1;32md:\\AllProjects\\FaceDetector\\lib\\site-packages\\torch\\utils\\data\\_utils\\collate.py:272\u001b[0m, in \u001b[0;36mcollate_tensor_fn\u001b[1;34m(batch, collate_fn_map)\u001b[0m\n\u001b[0;32m    270\u001b[0m     storage \u001b[38;5;241m=\u001b[39m elem\u001b[38;5;241m.\u001b[39m_typed_storage()\u001b[38;5;241m.\u001b[39m_new_shared(numel, device\u001b[38;5;241m=\u001b[39melem\u001b[38;5;241m.\u001b[39mdevice)\n\u001b[0;32m    271\u001b[0m     out \u001b[38;5;241m=\u001b[39m elem\u001b[38;5;241m.\u001b[39mnew(storage)\u001b[38;5;241m.\u001b[39mresize_(\u001b[38;5;28mlen\u001b[39m(batch), \u001b[38;5;241m*\u001b[39m\u001b[38;5;28mlist\u001b[39m(elem\u001b[38;5;241m.\u001b[39msize()))\n\u001b[1;32m--> 272\u001b[0m \u001b[38;5;28;01mreturn\u001b[39;00m \u001b[43mtorch\u001b[49m\u001b[38;5;241;43m.\u001b[39;49m\u001b[43mstack\u001b[49m\u001b[43m(\u001b[49m\u001b[43mbatch\u001b[49m\u001b[43m,\u001b[49m\u001b[43m \u001b[49m\u001b[38;5;241;43m0\u001b[39;49m\u001b[43m,\u001b[49m\u001b[43m \u001b[49m\u001b[43mout\u001b[49m\u001b[38;5;241;43m=\u001b[39;49m\u001b[43mout\u001b[49m\u001b[43m)\u001b[49m\n",
      "\u001b[1;31mRuntimeError\u001b[0m: stack expects each tensor to be equal size, but got [117] at entry 0 and [54] at entry 1"
     ]
    }
   ],
   "source": [
    "import torch\n",
    "import torch.nn as nn\n",
    "import torch.optim as optim\n",
    "from torch.utils.data import DataLoader, Dataset\n",
    "import numpy as np\n",
    "\n",
    "# Пример датасета\n",
    "class SequenceDataset(Dataset):\n",
    "    def __init__(self, data, labels):\n",
    "        self.data = data\n",
    "        self.labels = labels\n",
    "\n",
    "    def __len__(self):\n",
    "        return len(self.data)\n",
    "\n",
    "    def __getitem__(self, idx):\n",
    "        return self.data[idx], self.labels[idx]\n",
    "\n",
    "# Пример данных\n",
    "num_samples = 1000\n",
    "seq_length = 10\n",
    "input_size = 5\n",
    "num_classes = 3\n",
    "\n",
    "#data = torch.randn(num_samples, seq_length, input_size)\n",
    "#labels = torch.randint(0, num_classes, (num_samples,))\n",
    "\n",
    "#dataset = SequenceDataset(data, labels)\n",
    "#dataloader = DataLoader(dataset, batch_size=32, shuffle=True)\n",
    "\n",
    "device = 'cuda' if torch.cuda.is_available() else 'cpu'\n",
    "dataset = JokesDataset(tokenizer, cut_text, 256)\n",
    "dataloader = DataLoader(dataset, batch_size=128, shuffle=True)\n",
    "\n",
    "# Определение модели\n",
    "class RNNClassifier(nn.Module):\n",
    "    def __init__(self, input_size, hidden_size, num_classes):\n",
    "        super(RNNClassifier, self).__init__()\n",
    "        self.hidden_size = hidden_size\n",
    "        self.rnn = nn.RNN(input_size, hidden_size, batch_first=True)\n",
    "        self.fc = nn.Linear(hidden_size, num_classes)\n",
    "\n",
    "    def forward(self, x):\n",
    "        h0 = torch.zeros(1, x.size(0), self.hidden_size)\n",
    "        out, _ = self.rnn(x, h0)\n",
    "        out = self.fc(out[:, -1, :])  # Используем последнее скрытое состояние\n",
    "        return out\n",
    "\n",
    "# Инициализация модели, функции потерь и оптимизатора\n",
    "hidden_size = 20\n",
    "model = RNNClassifier(input_size, hidden_size, num_classes)\n",
    "criterion = nn.CrossEntropyLoss()\n",
    "optimizer = optim.Adam(model.parameters(), lr=0.001)\n",
    "\n",
    "# Цикл обучения\n",
    "num_epochs = 10\n",
    "for epoch in range(num_epochs):\n",
    "    for batch_data, batch_labels in dataloader:\n",
    "        optimizer.zero_grad()\n",
    "        outputs = model(batch_data)\n",
    "        loss = criterion(outputs, batch_labels)\n",
    "        loss.backward()\n",
    "        optimizer.step()\n",
    "    \n",
    "    print(f'Epoch {epoch+1}/{num_epochs}, Loss: {loss.item()}')\n"
   ]
  },
  {
   "cell_type": "code",
   "execution_count": null,
   "metadata": {},
   "outputs": [
    {
     "name": "stdout",
     "output_type": "stream",
     "text": [
      "Predicted class: 1\n"
     ]
    }
   ],
   "source": [
    "# Пример предсказания\n",
    "with torch.no_grad():\n",
    "    sample_data = torch.randn(1, seq_length, input_size)\n",
    "    prediction = model(sample_data)\n",
    "    predicted_class = torch.argmax(prediction, dim=1)\n",
    "    print(f'Predicted class: {predicted_class.item()}')"
   ]
  },
  {
   "cell_type": "markdown",
   "metadata": {},
   "source": [
    "##  {*} Задача 4. [5/6/7/8] баллов\n",
    "[ссылка](https://www.kaggle.com/t/b2ef08dc3ddf44f981e2ad186c6c508d)\n",
    "\n",
    "Попробуйте обучить сверточную нейронную сеть задаче детекции людей на изображениях разного стиля. Вы можете воспользоваться сторонними библиотеками для вашей работы. Однако, за неисопользование полностью готовых скриптов обучения (как в классной работе) вы получите дополнительные2 балла"
   ]
  },
  {
   "cell_type": "code",
   "execution_count": null,
   "metadata": {},
   "outputs": [
    {
     "name": "stdout",
     "output_type": "stream",
     "text": [
      "torch.Size([32, 3, 128, 128])\n"
     ]
    }
   ],
   "source": [
    "import os\n",
    "from PIL import Image\n",
    "import torch\n",
    "from torchvision import transforms\n",
    "from torch.utils.data import Dataset, DataLoader\n",
    "\n",
    "# Определяем трансформации для изображений\n",
    "transform = transforms.Compose([\n",
    "    transforms.Resize((128, 128)),  # Изменяем размер изображений\n",
    "    transforms.ToTensor(),  # Преобразуем в тензор\n",
    "    transforms.Normalize((0.5, 0.5, 0.5), (0.5, 0.5, 0.5))  # Нормализуем изображения\n",
    "])\n",
    "\n",
    "# Создаем собственный датасет\n",
    "class ImageDataset(Dataset):\n",
    "    def __init__(self, image_folder, transform=None):\n",
    "        self.image_folder = image_folder\n",
    "        self.transform = transform\n",
    "        self.image_files = [f for f in os.listdir(image_folder) if f.endswith(('jpg', 'jpeg', 'png'))]\n",
    "\n",
    "    def __len__(self):\n",
    "        return len(self.image_files)\n",
    "\n",
    "    def __getitem__(self, idx):\n",
    "        img_name = os.path.join(self.image_folder, self.image_files[idx])\n",
    "        image = Image.open(img_name).convert('RGB')\n",
    "        \n",
    "        if self.transform:\n",
    "            image = self.transform(image)\n",
    "        \n",
    "        return image\n",
    "\n",
    "# Путь к папке с изображениями\n",
    "image_folder = '../additional_materials/images_dataset/'\n",
    "\n",
    "# Создаем экземпляр датасета\n",
    "dataset = ImageDataset(image_folder, transform=transform)\n",
    "\n",
    "# Создаем DataLoader\n",
    "dataloader = DataLoader(dataset, batch_size=32, shuffle=False)\n",
    "\n",
    "# Пример использования DataLoader\n",
    "for images in dataloader:\n",
    "    print(images.shape)  # (batch_size, 3, 128, 128)\n",
    "    break"
   ]
  },
  {
   "cell_type": "code",
   "execution_count": null,
   "metadata": {},
   "outputs": [],
   "source": [
    "# TRASH\n",
    "\n",
    "import numpy as np\n",
    "import torch\n",
    "from collections import Counter\n",
    "\n",
    "class SimpleTokenizer:\n",
    "    def __init__(self, text, max_vocab_size=322500):\n",
    "        self.text = text\n",
    "        self.max_vocab_size = max_vocab_size\n",
    "        self.special_tokens = ['<pad>', '<bos>', '<eos>', '<unk>']\n",
    "        \n",
    "        # Создаем словарь частотности слов\n",
    "        self.word_counts = Counter(self.text.split())\n",
    "        \n",
    "        # Ограничиваем размер словаря\n",
    "        self.vocab = self.special_tokens + [word for word, _ in self.word_counts.most_common(max_vocab_size - len(self.special_tokens))]\n",
    "        \n",
    "        # Создаем отображения слов в индексы и обратно\n",
    "        self.word2idx = {word: idx for idx, word in enumerate(self.vocab)}\n",
    "        self.idx2word = {idx: word for word, idx in self.word2idx.items()}\n",
    "\n",
    "        # Добавляем специальные токены\n",
    "        self._add_special(\"<pad>\")\n",
    "        self._add_special(\"<bos>\")\n",
    "        self._add_special(\"<eos>\")\n",
    "        self._add_special(\"<unk>\") # неизвестеые слова (не были включены в словарь токенайзера)\n",
    "\n",
    "    def _add_special(self, symbol):\n",
    "        idx = len(self.idx2word)\n",
    "        self.idx2word[idx] = symbol\n",
    "        self.word2idx[symbol] = idx\n",
    "\n",
    "    #@property\n",
    "    def encode(self, sentence):\n",
    "        # Преобразуем предложение в список индексов\n",
    "        words = sentence.split()\n",
    "        indices = [self.word2idx.get(word, self.word2idx['<unk>']) for word in words]\n",
    "        return [self.word2idx['<bos>']] + indices + [self.word2idx['<eos>']]\n",
    "\n",
    "    def decode(self, indices):\n",
    "        # Преобразуем список индексов обратно в предложение\n",
    "        words = [self.idx2word.get(idx, '<unk>') for idx in indices]\n",
    "        return ' '.join(words).replace('<bos> ', '').replace(' <eos>', '')\n",
    "\n",
    "    def pad_sequence(self, sequence, max_length):\n",
    "        # Дополняем последовательность до максимальной длины\n",
    "        if len(sequence) < max_length:\n",
    "            sequence += [self.word2idx['<pad>']] * (max_length - len(sequence))\n",
    "        return sequence[:max_length]\n",
    "\n",
    "\n",
    "# Пример использования\n",
    "tokenizer = SimpleTokenizer(text)\n",
    "\n",
    "encoded = tokenizer.encode(\"Это пример текста для токенизации. Это еще один пример.\")\n",
    "print(\"Encoded:\", encoded)\n",
    "\n",
    "decoded = tokenizer.decode(encoded)\n",
    "print(\"Decoded:\", decoded)\n",
    "\n",
    "# Пример дополнения последовательности\n",
    "padded_sequence = tokenizer.pad_sequence(encoded, 20)\n",
    "print(\"Padded:\", padded_sequence)"
   ]
  },
  {
   "cell_type": "code",
   "execution_count": null,
   "metadata": {},
   "outputs": [],
   "source": []
  }
 ],
 "metadata": {
  "kernelspec": {
   "display_name": "base",
   "language": "python",
   "name": "python3"
  },
  "language_info": {
   "codemirror_mode": {
    "name": "ipython",
    "version": 3
   },
   "file_extension": ".py",
   "mimetype": "text/x-python",
   "name": "python",
   "nbconvert_exporter": "python",
   "pygments_lexer": "ipython3",
   "version": "3.9.10"
  }
 },
 "nbformat": 4,
 "nbformat_minor": 2
}
